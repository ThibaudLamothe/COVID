{
 "cells": [
  {
   "cell_type": "markdown",
   "metadata": {},
   "source": [
    "# World contamination"
   ]
  },
  {
   "cell_type": "markdown",
   "metadata": {},
   "source": [
    "Creation of 3 pickle files :\n",
    "\n",
    "- `df_world.p` : number of contaminated/saved/dead people through the world with location information\n",
    "- `df_world_fr.p` : adaptation of france contaminination file to have the same structure as the `df_world` dataframe\n",
    "- `country_position.p` : saving the location of each country in case of further needs"
   ]
  },
  {
   "cell_type": "markdown",
   "metadata": {},
   "source": [
    "# Imports and settings"
   ]
  },
  {
   "cell_type": "code",
   "execution_count": null,
   "metadata": {
    "ExecuteTime": {
     "end_time": "2020-03-29T18:17:18.529936Z",
     "start_time": "2020-03-29T18:17:15.895583Z"
    }
   },
   "outputs": [],
   "source": [
    "import json\n",
    "import pandas as pd\n",
    "import matplotlib.pyplot as plt\n",
    "\n",
    "import sys\n",
    "sys.path.append('../scripts/')\n",
    "import utils_covid as f\n",
    "\n",
    "import plotly.express as px\n",
    "from plotly import graph_objs as go\n",
    "from plotly.offline import init_notebook_mode, plot, iplot"
   ]
  },
  {
   "cell_type": "code",
   "execution_count": null,
   "metadata": {
    "ExecuteTime": {
     "end_time": "2020-03-29T19:49:50.106830Z",
     "start_time": "2020-03-29T19:49:50.067105Z"
    }
   },
   "outputs": [],
   "source": [
    "pd.set_option('chained_assignment',None)\n",
    "pd.set_option('display.max_columns', 500)\n",
    "\n",
    "init_notebook_mode(connected=True)\n",
    "mapbox_access_token = f.load_mapbox_token()\n",
    "#px.set_mapbox_access_token(token)"
   ]
  },
  {
   "cell_type": "code",
   "execution_count": null,
   "metadata": {
    "ExecuteTime": {
     "end_time": "2020-03-29T18:17:20.596212Z",
     "start_time": "2020-03-29T18:17:20.552437Z"
    }
   },
   "outputs": [],
   "source": [
    "%load_ext autoreload\n",
    "%autoreload 2\n",
    "\n",
    "%aimport utils_covid"
   ]
  },
  {
   "cell_type": "markdown",
   "metadata": {},
   "source": [
    "# Data Cleaning"
   ]
  },
  {
   "cell_type": "markdown",
   "metadata": {},
   "source": [
    "__Re using France Contamination file__"
   ]
  },
  {
   "cell_type": "code",
   "execution_count": null,
   "metadata": {
    "ExecuteTime": {
     "end_time": "2020-03-29T18:17:21.276244Z",
     "start_time": "2020-03-29T18:17:21.214854Z"
    }
   },
   "outputs": [],
   "source": [
    "df_fr = f.load_pickle('df_contamination_fr.p')\n",
    "df_fr = df_fr[['cas_confirme', 'total_retour_a_domicile', 'total_deces']]\n",
    "df_fr.columns = ['confirmed', 'deaths', 'recovered']\n",
    "df_fr.head()"
   ]
  },
  {
   "cell_type": "markdown",
   "metadata": {},
   "source": [
    "__Loading and preparing world pandeminc dataset__"
   ]
  },
  {
   "cell_type": "code",
   "execution_count": null,
   "metadata": {
    "ExecuteTime": {
     "end_time": "2020-03-29T18:17:39.464552Z",
     "start_time": "2020-03-29T18:17:38.364068Z"
    }
   },
   "outputs": [],
   "source": [
    "# Reading file\n",
    "path = f.OPENDATA_PATH + 'covid-19-pandemic-worldwide-data.csv'\n",
    "#path = '/Users/thibaud/Downloads/covid-19-pandemic-worldwide-data.csv'\n",
    "df = pd.read_csv(path, sep=';')\n",
    "\n",
    "# Focus on zones\n",
    "df['subzone'] = df[['Zone', 'Sub Zone']].apply(lambda line: line['Zone'] if pd.isnull(line['Sub Zone']) else line['Sub Zone'], axis=1)\n",
    "\n",
    "# Columns renaming\n",
    "df.columns = [col.lower() for col in df.columns]\n",
    "\n",
    "# Extracting latitute and longitude\n",
    "df['lat'] = df['location'].apply(lambda x: x.split(',')[0])\n",
    "df['lon'] = df['location'].apply(lambda x: x.split(',')[1])\n",
    "\n",
    "# Saving countrues positions (latitude and longitude per subzones)\n",
    "country_position = df[['subzone', 'lat', 'lon']].drop_duplicates(\"subzone\").set_index('subzone').to_dict(orient='index')\n",
    "print('France:', country_position['France'])\n",
    "\n",
    "# Droping unnecessary colunms\n",
    "df = df.drop(['zone', 'sub zone', 'location'], axis=1)\n",
    "\n",
    "# Pivoting per category\n",
    "df = pd.pivot_table(df, values='count', index=['date', 'subzone'], columns=['category'])\n",
    "df.columns = ['confirmed', 'deaths', 'recovered']\n",
    "\n",
    "df.head()"
   ]
  },
  {
   "cell_type": "markdown",
   "metadata": {},
   "source": [
    "__Saving__ : both DataFrames have the exact same structure"
   ]
  },
  {
   "cell_type": "code",
   "execution_count": null,
   "metadata": {
    "ExecuteTime": {
     "end_time": "2020-03-29T18:17:41.163421Z",
     "start_time": "2020-03-29T18:17:41.132827Z"
    }
   },
   "outputs": [],
   "source": [
    "f.save_pickle(df, 'df_world.p')\n",
    "f.save_pickle(df_fr, 'df_world_fr.p')\n",
    "f.save_pickle(country_position , 'country_position.p')"
   ]
  },
  {
   "cell_type": "markdown",
   "metadata": {},
   "source": [
    "# Reload data"
   ]
  },
  {
   "cell_type": "code",
   "execution_count": null,
   "metadata": {
    "ExecuteTime": {
     "end_time": "2020-03-29T18:17:53.182414Z",
     "start_time": "2020-03-29T18:17:53.146349Z"
    }
   },
   "outputs": [],
   "source": [
    "df = f.load_pickle('df_world.p')\n",
    "df_fr = f.load_pickle('df_world_fr.p')\n",
    "country_position = f.load_pickle('country_position.p')\n",
    "region_info = f.load_pickle('region_info_by_id.p') # from contamination part"
   ]
  },
  {
   "cell_type": "code",
   "execution_count": null,
   "metadata": {
    "ExecuteTime": {
     "end_time": "2020-03-29T11:06:05.128196Z",
     "start_time": "2020-03-29T11:06:05.091034Z"
    }
   },
   "outputs": [],
   "source": [
    "df_fr.head()"
   ]
  },
  {
   "cell_type": "code",
   "execution_count": null,
   "metadata": {
    "ExecuteTime": {
     "end_time": "2020-03-29T11:06:06.631917Z",
     "start_time": "2020-03-29T11:06:06.585173Z"
    }
   },
   "outputs": [],
   "source": [
    "df.head()"
   ]
  },
  {
   "cell_type": "markdown",
   "metadata": {},
   "source": [
    "# World map"
   ]
  },
  {
   "cell_type": "markdown",
   "metadata": {},
   "source": [
    "__For one given_day__\n",
    "\n",
    "(For animation see : https://plotly.com/~empet/14825/scattermapbox-animation-forum-question/#/)"
   ]
  },
  {
   "cell_type": "code",
   "execution_count": null,
   "metadata": {
    "ExecuteTime": {
     "end_time": "2020-03-29T00:18:20.298514Z",
     "start_time": "2020-03-29T00:18:20.257123Z"
    }
   },
   "outputs": [],
   "source": [
    "jour = '2020-03-27'\n",
    "category = 'confirmed'"
   ]
  },
  {
   "cell_type": "code",
   "execution_count": null,
   "metadata": {
    "ExecuteTime": {
     "end_time": "2020-03-29T00:18:20.861680Z",
     "start_time": "2020-03-29T00:18:20.746306Z"
    }
   },
   "outputs": [],
   "source": [
    "# Select onde day, one category  (reset index for applying lat/lon by line)\n",
    "tmp = df.xs(jour)[[category]].reset_index()\n",
    "\n",
    "# Add latitute and longitude information for map info\n",
    "tmp['lat'] = tmp['subzone'].apply(lambda x:country_position[x]['lat']).apply(float)\n",
    "tmp['lon'] = tmp['subzone'].apply(lambda x:country_position[x]['lon']).apply(float)\n",
    "\n",
    "# Filling nan values\n",
    "tmp[category] = tmp[category].fillna(0)\n",
    "\n",
    "tmp.head()"
   ]
  },
  {
   "cell_type": "markdown",
   "metadata": {},
   "source": [
    "__Map plot__"
   ]
  },
  {
   "cell_type": "code",
   "execution_count": null,
   "metadata": {
    "ExecuteTime": {
     "end_time": "2020-03-28T22:22:20.802852Z",
     "start_time": "2020-03-28T22:22:20.065683Z"
    }
   },
   "outputs": [],
   "source": [
    "fig = go.Figure(go.Scattermapbox(\n",
    "        lat=tmp.lat.values,\n",
    "        lon=tmp.lon.values,\n",
    "        mode='markers',\n",
    "        marker=go.scattermapbox.Marker(\n",
    "            size=(tmp.confirmed/1000).values\n",
    "        ),\n",
    "        text=tmp.subzone.values,\n",
    "    ))\n",
    "\n",
    "fig.update_layout(\n",
    "    hovermode='closest',\n",
    "    mapbox=dict(\n",
    "        accesstoken=mapbox_access_token,\n",
    "        bearing=0,\n",
    "        center=go.layout.mapbox.Center(\n",
    "            lat=45,\n",
    "            lon=-73\n",
    "        ),\n",
    "        pitch=0,\n",
    "        zoom=1\n",
    "    )\n",
    ")\n",
    "fig.update_layout(margin={\"r\":0,\"t\":0,\"l\":0,\"b\":0})\n",
    "fig.show()"
   ]
  },
  {
   "cell_type": "markdown",
   "metadata": {},
   "source": [
    "# France map\n",
    "\n",
    "Note that only one category is available for french dataset by region.\n",
    "\n",
    "The one with dept has no information about confimred cases but is about hospitals \n",
    "\n",
    "_(As of March 29th 2020)_"
   ]
  },
  {
   "cell_type": "code",
   "execution_count": null,
   "metadata": {
    "ExecuteTime": {
     "end_time": "2020-03-29T00:20:48.639826Z",
     "start_time": "2020-03-29T00:20:48.582402Z"
    }
   },
   "outputs": [],
   "source": [
    "jour = '2020-03-20'\n",
    "category = 'confirmed' "
   ]
  },
  {
   "cell_type": "code",
   "execution_count": null,
   "metadata": {
    "ExecuteTime": {
     "end_time": "2020-03-29T00:20:56.481117Z",
     "start_time": "2020-03-29T00:20:56.413896Z"
    }
   },
   "outputs": [],
   "source": [
    "tmp = df_fr.xs(jour)[category].reset_index()\n",
    "tmp['lat'] = tmp['code_region'].apply(lambda x: region_info[x]['lat'])\n",
    "tmp['lon'] = tmp['code_region'].apply(lambda x: region_info[x]['lon'])\n",
    "tmp.head()"
   ]
  },
  {
   "cell_type": "markdown",
   "metadata": {},
   "source": [
    "__... and Plot !__"
   ]
  },
  {
   "cell_type": "code",
   "execution_count": null,
   "metadata": {
    "ExecuteTime": {
     "end_time": "2020-03-28T22:24:15.635884Z",
     "start_time": "2020-03-28T22:24:15.483360Z"
    }
   },
   "outputs": [],
   "source": [
    "fig = go.Figure(go.Scattermapbox(\n",
    "        lat=tmp['lat'].values,\n",
    "        lon=tmp['lon'].values,\n",
    "        mode='markers',\n",
    "        marker=go.scattermapbox.Marker(\n",
    "            size=(tmp['confirmed']/50).values\n",
    "        ),\n",
    "        text=tmp['confirmed'].values,\n",
    "    ))\n",
    "\n",
    "fig.update_layout(\n",
    "    hovermode='closest',\n",
    "    mapbox=dict(\n",
    "        accesstoken=mapbox_access_token,\n",
    "        bearing=0,\n",
    "        center=go.layout.mapbox.Center(\n",
    "            lat=45,\n",
    "            lon=-73\n",
    "        ),\n",
    "        pitch=0,\n",
    "        zoom=1\n",
    "    )\n",
    ")\n",
    "fig.update_layout(margin={\"r\":0,\"t\":0,\"l\":0,\"b\":0})\n",
    "fig.show()"
   ]
  },
  {
   "cell_type": "markdown",
   "metadata": {},
   "source": [
    "# World  most touched countrie's curves"
   ]
  },
  {
   "cell_type": "code",
   "execution_count": null,
   "metadata": {
    "ExecuteTime": {
     "end_time": "2020-03-29T11:20:20.145196Z",
     "start_time": "2020-03-29T11:20:20.093200Z"
    }
   },
   "outputs": [],
   "source": [
    "# Select jour as last day available\n",
    "jour = df.index.levels[0].max()\n",
    "\n",
    "# the most touched contries\n",
    "max_countries = df.xs(jour).confirmed.sort_values(ascending=False).index[:10].tolist()"
   ]
  },
  {
   "cell_type": "code",
   "execution_count": null,
   "metadata": {
    "ExecuteTime": {
     "end_time": "2020-03-29T00:22:15.010468Z",
     "start_time": "2020-03-29T00:22:14.059323Z"
    }
   },
   "outputs": [],
   "source": [
    "# Plotting the confirmed case for them\n",
    "tmp = df.reset_index()[df.reset_index()['subzone'].isin(max_countries)].groupby(['subzone', 'date']).sum()\n",
    "plt.figure(figsize=(20,5))\n",
    "for i in max_countries:\n",
    "    plt.plot(tmp.xs(i)['confirmed'], label=i)\n",
    "plt.legend()\n",
    "plt.show()"
   ]
  },
  {
   "cell_type": "code",
   "execution_count": null,
   "metadata": {
    "ExecuteTime": {
     "end_time": "2020-03-29T11:06:29.041730Z",
     "start_time": "2020-03-29T11:06:28.988855Z"
    }
   },
   "outputs": [],
   "source": [
    "df.head()"
   ]
  },
  {
   "cell_type": "code",
   "execution_count": null,
   "metadata": {
    "ExecuteTime": {
     "end_time": "2020-03-29T11:29:48.690901Z",
     "start_time": "2020-03-29T11:29:48.636177Z"
    }
   },
   "outputs": [],
   "source": []
  },
  {
   "cell_type": "code",
   "execution_count": null,
   "metadata": {
    "ExecuteTime": {
     "end_time": "2020-03-29T11:33:35.929379Z",
     "start_time": "2020-03-29T11:33:35.900421Z"
    }
   },
   "outputs": [],
   "source": [
    "print(max_size)\n",
    "cc = {}\n",
    "for key, value in country_curves.items():\n",
    "    value = list(value) + [np.NaN] * (max_size + 5 -len(value))\n",
    "    cc[key]=value"
   ]
  },
  {
   "cell_type": "code",
   "execution_count": null,
   "metadata": {
    "ExecuteTime": {
     "end_time": "2020-03-29T11:34:47.629697Z",
     "start_time": "2020-03-29T11:34:47.590886Z"
    }
   },
   "outputs": [],
   "source": [
    "def plot_from_j(df, category, nb_people, nb_country):\n",
    "\n",
    "    jour = df.index.levels[0].max()\n",
    "    countries = df.reset_index()['subzone'].unique()\n",
    "    max_countries = df.xs(jour)[category].sort_values(ascending=False).index[:nb_country].tolist()\n",
    "    \n",
    "    country_curves = {} \n",
    "    max_size=0\n",
    "    for country in max_countries:\n",
    "        tmp = df.xs(country, level=1)\n",
    "        tmp = tmp[tmp[category]>nb_people]\n",
    "\n",
    "        country_curves[country]=tmp[category].values\n",
    "        if tmp.shape[0] > max_size:\n",
    "            max_size = tmp.shape[0]\n",
    "\n",
    "    cc = {}\n",
    "    for key, value in country_curves.items():\n",
    "        value = list(value) + [np.NaN] * (max_size + 5 -len(value))\n",
    "        cc[key]=value\n",
    "\n",
    "\n",
    "    covid = pd.DataFrame(cc)\n",
    "    covid.plot()\n",
    "\n",
    "    _ = plt.show()\n",
    "    return covid"
   ]
  },
  {
   "cell_type": "code",
   "execution_count": null,
   "metadata": {
    "ExecuteTime": {
     "end_time": "2020-03-29T11:34:48.938653Z",
     "start_time": "2020-03-29T11:34:48.549403Z"
    }
   },
   "outputs": [],
   "source": [
    "_ = plot_from_j(df, 'confirmed', nb_people=100, nb_country = 10)"
   ]
  },
  {
   "cell_type": "code",
   "execution_count": null,
   "metadata": {
    "ExecuteTime": {
     "end_time": "2020-03-29T11:35:03.727957Z",
     "start_time": "2020-03-29T11:35:03.493166Z"
    }
   },
   "outputs": [],
   "source": [
    "_ = plot_from_j(df, 'recovered', nb_people=10, nb_country = 10)"
   ]
  },
  {
   "cell_type": "code",
   "execution_count": null,
   "metadata": {
    "ExecuteTime": {
     "end_time": "2020-03-29T11:35:12.800765Z",
     "start_time": "2020-03-29T11:35:12.565135Z"
    }
   },
   "outputs": [],
   "source": [
    "_ = plot_from_j(df, 'deaths',  nb_people=10, nb_country = 10)"
   ]
  },
  {
   "cell_type": "markdown",
   "metadata": {},
   "source": [
    "### Bubble size transformation"
   ]
  },
  {
   "cell_type": "code",
   "execution_count": null,
   "metadata": {
    "ExecuteTime": {
     "end_time": "2020-03-29T11:50:01.622399Z",
     "start_time": "2020-03-29T11:50:01.577965Z"
    }
   },
   "outputs": [],
   "source": []
  },
  {
   "cell_type": "code",
   "execution_count": null,
   "metadata": {
    "ExecuteTime": {
     "end_time": "2020-03-29T11:50:02.176280Z",
     "start_time": "2020-03-29T11:50:02.016234Z"
    }
   },
   "outputs": [],
   "source": [
    "plt.plot(x, y)\n",
    "plt.show()"
   ]
  },
  {
   "cell_type": "code",
   "execution_count": null,
   "metadata": {
    "ExecuteTime": {
     "end_time": "2020-03-29T11:51:10.455550Z",
     "start_time": "2020-03-29T11:51:10.380589Z"
    }
   },
   "outputs": [],
   "source": [
    "df = f.load_pickle('df_world.p')\n",
    "df_fr = f.load_pickle('df_world_fr.p')\n",
    "country_position = f.load_pickle('country_position.p')\n",
    "geo_world_ok = f.load_pickle('geo_world.p')\n",
    "region_info = f.load_pickle('region_info_by_id.p')\n",
    "\n",
    "startdate = '2020-03-01'\n",
    "\n",
    "tmp = df.reset_index()\n",
    "tmp = tmp[tmp['date'] > startdate]\n",
    "tmp['lat'] = tmp['subzone'].apply(lambda x:country_position[x]['lat']).apply(float)\n",
    "tmp['lon'] = tmp['subzone'].apply(lambda x:country_position[x]['lon']).apply(float)\n",
    "tmp = tmp.groupby(['date', 'subzone']).agg({'confirmed':'sum', 'deaths':'sum', 'recovered':'sum','lat':'last', 'lon':'last'})\n",
    "tmp['confirmed'] = tmp['confirmed'].fillna(0)\n",
    "tmp['confirmed'] = tmp['confirmed'].fillna(0)\n",
    "tmp['confirmed'] = tmp['confirmed'].fillna(0)\n",
    "#tmp['size'] = (tmp['confirmed']/1000).apply(lambda x: 0 if x <=0 else x if x > 4 else 4)\n",
    "\n"
   ]
  },
  {
   "cell_type": "code",
   "execution_count": null,
   "metadata": {
    "ExecuteTime": {
     "end_time": "2020-03-29T11:51:19.084551Z",
     "start_time": "2020-03-29T11:51:18.895372Z"
    }
   },
   "outputs": [],
   "source": [
    "tmp.reset_index()['confirmed'].hist()"
   ]
  },
  {
   "cell_type": "code",
   "execution_count": null,
   "metadata": {
    "ExecuteTime": {
     "end_time": "2020-03-29T12:13:03.983959Z",
     "start_time": "2020-03-29T12:13:03.897731Z"
    }
   },
   "outputs": [],
   "source": [
    "max_value = int(tmp.reset_index()['confirmed'].max())\n",
    "n_size = 100\n",
    "scales = np.array([i for i in range(0, max_value, int(max_value/n_size))])\n",
    "\n",
    "def transform_size(x):\n",
    "    if x==0:\n",
    "        return 0\n",
    "    return np.argmin(np.abs(scales - x)) + 1\n",
    "    \n",
    "    \n",
    "x = []\n",
    "y = []\n",
    "for i in range(n_size+2):\n",
    "    x.append(i)\n",
    "    y.append(np.sqrt(i))\n",
    "    \n",
    "\n",
    "tmp['size'] = tmp.reset_index()['confirmed'].apply(transform_size).apply(lambda v:y[v]*10)"
   ]
  },
  {
   "cell_type": "code",
   "execution_count": null,
   "metadata": {
    "ExecuteTime": {
     "end_time": "2020-03-29T12:13:09.615453Z",
     "start_time": "2020-03-29T12:13:09.548300Z"
    }
   },
   "outputs": [],
   "source": [
    "tmp"
   ]
  },
  {
   "cell_type": "code",
   "execution_count": null,
   "metadata": {},
   "outputs": [],
   "source": []
  }
 ],
 "metadata": {
  "kernelspec": {
   "display_name": "Python 3.7.6 64-bit ('sales': conda)",
   "language": "python",
   "name": "python37664bitsalescondaf470a92934c449ca8e9012a92cdca3d7"
  },
  "language_info": {
   "codemirror_mode": {
    "name": "ipython",
    "version": 3
   },
   "file_extension": ".py",
   "mimetype": "text/x-python",
   "name": "python",
   "nbconvert_exporter": "python",
   "pygments_lexer": "ipython3",
   "version": "3.7.6"
  },
  "toc": {
   "base_numbering": 1,
   "nav_menu": {},
   "number_sections": true,
   "sideBar": true,
   "skip_h1_title": false,
   "title_cell": "Table of Contents",
   "title_sidebar": "Contents",
   "toc_cell": false,
   "toc_position": {},
   "toc_section_display": true,
   "toc_window_display": false
  },
  "varInspector": {
   "cols": {
    "lenName": 16,
    "lenType": 16,
    "lenVar": 40
   },
   "kernels_config": {
    "python": {
     "delete_cmd_postfix": "",
     "delete_cmd_prefix": "del ",
     "library": "var_list.py",
     "varRefreshCmd": "print(var_dic_list())"
    },
    "r": {
     "delete_cmd_postfix": ") ",
     "delete_cmd_prefix": "rm(",
     "library": "var_list.r",
     "varRefreshCmd": "cat(var_dic_list()) "
    }
   },
   "types_to_exclude": [
    "module",
    "function",
    "builtin_function_or_method",
    "instance",
    "_Feature"
   ],
   "window_display": false
  }
 },
 "nbformat": 4,
 "nbformat_minor": 4
}
