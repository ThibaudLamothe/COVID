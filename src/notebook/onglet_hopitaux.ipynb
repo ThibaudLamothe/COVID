{
 "cells": [
  {
   "cell_type": "markdown",
   "metadata": {},
   "source": [
    "# Hopitaux\n",
    "\n",
    "Utilisation d'un seul dataframe, celui de Sos Médecin par départements (info sos médecin et hopitaux)\n",
    "\n",
    "Création de 3 pickles, un par type de sexe. Index selon `date`, `region`, `age`\n",
    "- `df_h.p` : les hommes\n",
    "- `df_f.p` : les femmes\n",
    "- `df_t.p` : total des 2\n",
    "- `age_transformation.p` : dictionnaire qui contient 2 dictionnaires qui permettent de passer de label_2_value ou de value_2_label \n",
    "\n",
    "Attention, les données sont fournies ainsi, mais plus complètes pour l'ensemble des 2 que pour la répartion. Par conséquent la somme n'est pas toujours exacte."
   ]
  },
  {
   "cell_type": "markdown",
   "metadata": {},
   "source": [
    "# Imports"
   ]
  },
  {
   "cell_type": "code",
   "execution_count": 1,
   "metadata": {
    "ExecuteTime": {
     "end_time": "2020-03-29T18:17:02.502301Z",
     "start_time": "2020-03-29T18:17:01.698132Z"
    }
   },
   "outputs": [],
   "source": [
    "import pandas as pd\n",
    "import sys\n",
    "sys.path.append('../scripts/')\n",
    "import utils_covid as f\n",
    "\n",
    "pd.set_option('chained_assignment',None)\n",
    "pd.set_option('display.max_columns', 500)"
   ]
  },
  {
   "cell_type": "code",
   "execution_count": 2,
   "metadata": {
    "ExecuteTime": {
     "end_time": "2020-03-29T18:17:02.562483Z",
     "start_time": "2020-03-29T18:17:02.514681Z"
    }
   },
   "outputs": [],
   "source": [
    "%load_ext autoreload\n",
    "%autoreload 2\n",
    "\n",
    "%aimport utils_covid"
   ]
  },
  {
   "cell_type": "markdown",
   "metadata": {},
   "source": [
    "# Loading"
   ]
  },
  {
   "cell_type": "markdown",
   "metadata": {},
   "source": [
    "__raw_data__"
   ]
  },
  {
   "cell_type": "code",
   "execution_count": 3,
   "metadata": {
    "ExecuteTime": {
     "end_time": "2020-03-29T18:17:02.844376Z",
     "start_time": "2020-03-29T18:17:02.719259Z"
    }
   },
   "outputs": [
    {
     "data": {
      "text/html": [
       "<div>\n",
       "<style scoped>\n",
       "    .dataframe tbody tr th:only-of-type {\n",
       "        vertical-align: middle;\n",
       "    }\n",
       "\n",
       "    .dataframe tbody tr th {\n",
       "        vertical-align: top;\n",
       "    }\n",
       "\n",
       "    .dataframe thead th {\n",
       "        text-align: right;\n",
       "    }\n",
       "</style>\n",
       "<table border=\"1\" class=\"dataframe\">\n",
       "  <thead>\n",
       "    <tr style=\"text-align: right;\">\n",
       "      <th></th>\n",
       "      <th>Code département</th>\n",
       "      <th>Date</th>\n",
       "      <th>Nb. pass. urgences pr suspicion</th>\n",
       "      <th>Total pass. urgences</th>\n",
       "      <th>Nb. hosp. urgences pr suspicion</th>\n",
       "      <th>H - Nb. pass. urgences pr suspicion</th>\n",
       "      <th>F - Nb. pass. urgences pr suspicion</th>\n",
       "      <th>H - Total pass. urgences</th>\n",
       "      <th>F - Total pass. urgences</th>\n",
       "      <th>H - Nb. hosp. pass. urgences pr suspicion</th>\n",
       "      <th>F - Nb. hosp. pass. urgences pr suspicion</th>\n",
       "      <th>Nb. actes méd. SOS Méd. pr suspicion</th>\n",
       "      <th>Total actes méd. SOS Méd.</th>\n",
       "      <th>H - Nb. actes méd. SOS Méd. pr suspicion</th>\n",
       "      <th>F - Nb. actes méd. SOS Méd. pr suspicion</th>\n",
       "      <th>H - Total actes méd. SOS Méd.</th>\n",
       "      <th>F - Total actes méd. SOS Méd.</th>\n",
       "      <th>Code de la région</th>\n",
       "      <th>Code ISO 3166 de la zone</th>\n",
       "      <th>Nom région</th>\n",
       "      <th>Nom Département</th>\n",
       "      <th>Libellé tranches d'âge</th>\n",
       "      <th>Geo Point</th>\n",
       "    </tr>\n",
       "  </thead>\n",
       "  <tbody>\n",
       "    <tr>\n",
       "      <th>0</th>\n",
       "      <td>28</td>\n",
       "      <td>2020-03-22</td>\n",
       "      <td>2.0</td>\n",
       "      <td>40.0</td>\n",
       "      <td>1.0</td>\n",
       "      <td>NaN</td>\n",
       "      <td>NaN</td>\n",
       "      <td>NaN</td>\n",
       "      <td>NaN</td>\n",
       "      <td>NaN</td>\n",
       "      <td>NaN</td>\n",
       "      <td>NaN</td>\n",
       "      <td>NaN</td>\n",
       "      <td>NaN</td>\n",
       "      <td>NaN</td>\n",
       "      <td>NaN</td>\n",
       "      <td>NaN</td>\n",
       "      <td>24</td>\n",
       "      <td>FRA</td>\n",
       "      <td>Centre-Val de Loire</td>\n",
       "      <td>Eure-et-Loir</td>\n",
       "      <td>45-64 ans</td>\n",
       "      <td>48.3904369966,1.36981669854</td>\n",
       "    </tr>\n",
       "    <tr>\n",
       "      <th>1</th>\n",
       "      <td>2B</td>\n",
       "      <td>2020-03-22</td>\n",
       "      <td>3.0</td>\n",
       "      <td>12.0</td>\n",
       "      <td>3.0</td>\n",
       "      <td>NaN</td>\n",
       "      <td>NaN</td>\n",
       "      <td>NaN</td>\n",
       "      <td>NaN</td>\n",
       "      <td>NaN</td>\n",
       "      <td>NaN</td>\n",
       "      <td>NaN</td>\n",
       "      <td>NaN</td>\n",
       "      <td>NaN</td>\n",
       "      <td>NaN</td>\n",
       "      <td>NaN</td>\n",
       "      <td>NaN</td>\n",
       "      <td>94</td>\n",
       "      <td>FRA</td>\n",
       "      <td>Corse</td>\n",
       "      <td>Haute-Corse</td>\n",
       "      <td>&gt; 74 ans</td>\n",
       "      <td>42.3944507303,9.21065397337</td>\n",
       "    </tr>\n",
       "    <tr>\n",
       "      <th>2</th>\n",
       "      <td>44</td>\n",
       "      <td>2020-03-22</td>\n",
       "      <td>12.0</td>\n",
       "      <td>39.0</td>\n",
       "      <td>12.0</td>\n",
       "      <td>NaN</td>\n",
       "      <td>NaN</td>\n",
       "      <td>NaN</td>\n",
       "      <td>NaN</td>\n",
       "      <td>NaN</td>\n",
       "      <td>NaN</td>\n",
       "      <td>4.0</td>\n",
       "      <td>64.0</td>\n",
       "      <td>NaN</td>\n",
       "      <td>NaN</td>\n",
       "      <td>NaN</td>\n",
       "      <td>NaN</td>\n",
       "      <td>52</td>\n",
       "      <td>FRA</td>\n",
       "      <td>Pays de la Loire</td>\n",
       "      <td>Loire-Atlantique</td>\n",
       "      <td>&gt; 74 ans</td>\n",
       "      <td>47.3612553393,-1.6750424562</td>\n",
       "    </tr>\n",
       "    <tr>\n",
       "      <th>3</th>\n",
       "      <td>47</td>\n",
       "      <td>2020-03-22</td>\n",
       "      <td>5.0</td>\n",
       "      <td>30.0</td>\n",
       "      <td>0.0</td>\n",
       "      <td>NaN</td>\n",
       "      <td>NaN</td>\n",
       "      <td>NaN</td>\n",
       "      <td>NaN</td>\n",
       "      <td>NaN</td>\n",
       "      <td>NaN</td>\n",
       "      <td>NaN</td>\n",
       "      <td>NaN</td>\n",
       "      <td>NaN</td>\n",
       "      <td>NaN</td>\n",
       "      <td>NaN</td>\n",
       "      <td>NaN</td>\n",
       "      <td>75</td>\n",
       "      <td>FRA</td>\n",
       "      <td>Nouvelle-Aquitaine</td>\n",
       "      <td>Lot-et-Garonne</td>\n",
       "      <td>15-44 ans</td>\n",
       "      <td>44.3650343519,0.459260227242</td>\n",
       "    </tr>\n",
       "    <tr>\n",
       "      <th>4</th>\n",
       "      <td>56</td>\n",
       "      <td>2020-03-22</td>\n",
       "      <td>11.0</td>\n",
       "      <td>67.0</td>\n",
       "      <td>0.0</td>\n",
       "      <td>NaN</td>\n",
       "      <td>NaN</td>\n",
       "      <td>NaN</td>\n",
       "      <td>NaN</td>\n",
       "      <td>NaN</td>\n",
       "      <td>NaN</td>\n",
       "      <td>4.0</td>\n",
       "      <td>23.0</td>\n",
       "      <td>NaN</td>\n",
       "      <td>NaN</td>\n",
       "      <td>NaN</td>\n",
       "      <td>NaN</td>\n",
       "      <td>53</td>\n",
       "      <td>FRA</td>\n",
       "      <td>Bretagne</td>\n",
       "      <td>Morbihan</td>\n",
       "      <td>15-44 ans</td>\n",
       "      <td>47.8441455862,-2.8088066223</td>\n",
       "    </tr>\n",
       "  </tbody>\n",
       "</table>\n",
       "</div>"
      ],
      "text/plain": [
       "  Code département        Date  Nb. pass. urgences pr suspicion  \\\n",
       "0               28  2020-03-22                              2.0   \n",
       "1               2B  2020-03-22                              3.0   \n",
       "2               44  2020-03-22                             12.0   \n",
       "3               47  2020-03-22                              5.0   \n",
       "4               56  2020-03-22                             11.0   \n",
       "\n",
       "   Total pass. urgences  Nb. hosp. urgences pr suspicion  \\\n",
       "0                  40.0                              1.0   \n",
       "1                  12.0                              3.0   \n",
       "2                  39.0                             12.0   \n",
       "3                  30.0                              0.0   \n",
       "4                  67.0                              0.0   \n",
       "\n",
       "   H - Nb. pass. urgences pr suspicion  F - Nb. pass. urgences pr suspicion  \\\n",
       "0                                  NaN                                  NaN   \n",
       "1                                  NaN                                  NaN   \n",
       "2                                  NaN                                  NaN   \n",
       "3                                  NaN                                  NaN   \n",
       "4                                  NaN                                  NaN   \n",
       "\n",
       "   H - Total pass. urgences  F - Total pass. urgences  \\\n",
       "0                       NaN                       NaN   \n",
       "1                       NaN                       NaN   \n",
       "2                       NaN                       NaN   \n",
       "3                       NaN                       NaN   \n",
       "4                       NaN                       NaN   \n",
       "\n",
       "   H - Nb. hosp. pass. urgences pr suspicion  \\\n",
       "0                                        NaN   \n",
       "1                                        NaN   \n",
       "2                                        NaN   \n",
       "3                                        NaN   \n",
       "4                                        NaN   \n",
       "\n",
       "   F - Nb. hosp. pass. urgences pr suspicion  \\\n",
       "0                                        NaN   \n",
       "1                                        NaN   \n",
       "2                                        NaN   \n",
       "3                                        NaN   \n",
       "4                                        NaN   \n",
       "\n",
       "   Nb. actes méd. SOS Méd. pr suspicion  Total actes méd. SOS Méd.  \\\n",
       "0                                   NaN                        NaN   \n",
       "1                                   NaN                        NaN   \n",
       "2                                   4.0                       64.0   \n",
       "3                                   NaN                        NaN   \n",
       "4                                   4.0                       23.0   \n",
       "\n",
       "   H - Nb. actes méd. SOS Méd. pr suspicion  \\\n",
       "0                                       NaN   \n",
       "1                                       NaN   \n",
       "2                                       NaN   \n",
       "3                                       NaN   \n",
       "4                                       NaN   \n",
       "\n",
       "   F - Nb. actes méd. SOS Méd. pr suspicion  H - Total actes méd. SOS Méd.  \\\n",
       "0                                       NaN                            NaN   \n",
       "1                                       NaN                            NaN   \n",
       "2                                       NaN                            NaN   \n",
       "3                                       NaN                            NaN   \n",
       "4                                       NaN                            NaN   \n",
       "\n",
       "   F - Total actes méd. SOS Méd.  Code de la région Code ISO 3166 de la zone  \\\n",
       "0                            NaN                 24                      FRA   \n",
       "1                            NaN                 94                      FRA   \n",
       "2                            NaN                 52                      FRA   \n",
       "3                            NaN                 75                      FRA   \n",
       "4                            NaN                 53                      FRA   \n",
       "\n",
       "            Nom région   Nom Département Libellé tranches d'âge  \\\n",
       "0  Centre-Val de Loire      Eure-et-Loir              45-64 ans   \n",
       "1                Corse       Haute-Corse               > 74 ans   \n",
       "2     Pays de la Loire  Loire-Atlantique               > 74 ans   \n",
       "3   Nouvelle-Aquitaine    Lot-et-Garonne              15-44 ans   \n",
       "4             Bretagne          Morbihan              15-44 ans   \n",
       "\n",
       "                      Geo Point  \n",
       "0   48.3904369966,1.36981669854  \n",
       "1   42.3944507303,9.21065397337  \n",
       "2   47.3612553393,-1.6750424562  \n",
       "3  44.3650343519,0.459260227242  \n",
       "4   47.8441455862,-2.8088066223  "
      ]
     },
     "execution_count": 3,
     "metadata": {},
     "output_type": "execute_result"
    }
   ],
   "source": [
    "# Raw data\n",
    "path = f.OPENDATA_PATH + 'coronavirus-tranche-age-urgences-sosmedecins-dep-france.csv'\n",
    "df = pd.read_csv(path, sep=';')\n",
    "\n",
    "# Display few lines\n",
    "df.head()"
   ]
  },
  {
   "cell_type": "markdown",
   "metadata": {},
   "source": [
    "__renaming columns__"
   ]
  },
  {
   "cell_type": "code",
   "execution_count": 4,
   "metadata": {
    "ExecuteTime": {
     "end_time": "2020-03-29T18:17:03.014399Z",
     "start_time": "2020-03-29T18:17:02.994827Z"
    }
   },
   "outputs": [
    {
     "name": "stdout",
     "output_type": "stream",
     "text": [
      "{'Code département': '', 'Date': '', 'Nb. pass. urgences pr suspicion': '', 'Total pass. urgences': '', 'Nb. hosp. urgences pr suspicion': '', 'H - Nb. pass. urgences pr suspicion': '', 'F - Nb. pass. urgences pr suspicion': '', 'H - Total pass. urgences': '', 'F - Total pass. urgences': '', 'H - Nb. hosp. pass. urgences pr suspicion': '', 'F - Nb. hosp. pass. urgences pr suspicion': '', 'Nb. actes méd. SOS Méd. pr suspicion': '', 'Total actes méd. SOS Méd.': '', 'H - Nb. actes méd. SOS Méd. pr suspicion': '', 'F - Nb. actes méd. SOS Méd. pr suspicion': '', 'H - Total actes méd. SOS Méd.': '', 'F - Total actes méd. SOS Méd.': '', 'Code de la région': '', 'Code ISO 3166 de la zone': '', 'Nom région': '', 'Nom Département': '', \"Libellé tranches d'âge\": '', 'Geo Point': ''}\n"
     ]
    }
   ],
   "source": [
    "# To facilitate renaming function\n",
    "print({i:'' for i in df.columns.tolist()})"
   ]
  },
  {
   "cell_type": "code",
   "execution_count": 5,
   "metadata": {
    "ExecuteTime": {
     "end_time": "2020-03-29T18:17:03.145390Z",
     "start_time": "2020-03-29T18:17:03.119700Z"
    }
   },
   "outputs": [],
   "source": [
    "# Renaming all columns\n",
    "df = df.rename(columns={\n",
    "    'Code département': 'code_dept', \n",
    "    'Date': 'date', \n",
    "    'Nb. pass. urgences pr suspicion': 'urg_susp_t', \n",
    "    'Total pass. urgences': 'urg_tot_t', \n",
    "    'Nb. hosp. urgences pr suspicion': 'urg_hosp_t', \n",
    "    'H - Nb. pass. urgences pr suspicion': 'urg_susp_h', \n",
    "    'F - Nb. pass. urgences pr suspicion': 'urg_susp_f', \n",
    "    'H - Total pass. urgences': 'urg_tot_h', \n",
    "    'F - Total pass. urgences': 'urg_tot_f', \n",
    "    'H - Nb. hosp. pass. urgences pr suspicion': 'urg_hosp_h', \n",
    "    'F - Nb. hosp. pass. urgences pr suspicion': 'urg_hosp_f',\n",
    "    'Nb. actes méd. SOS Méd. pr suspicion': 'sos_susp_t',\n",
    "    'Total actes méd. SOS Méd.': 'sos_tot_t',\n",
    "    'H - Nb. actes méd. SOS Méd. pr suspicion': 'sos_susp_h',\n",
    "    'F - Nb. actes méd. SOS Méd. pr suspicion': 'sos_susp_f',\n",
    "    'H - Total actes méd. SOS Méd.': 'sos_tot_h',\n",
    "    'F - Total actes méd. SOS Méd.': 'sos_tot_f',\n",
    "    'Code de la région': 'code_region',\n",
    "    'Code ISO 3166 de la zone': 'iso_zone',\n",
    "    'Nom région': 'region',\n",
    "    'Nom Département': 'dept',\n",
    "    \"Libellé tranches d'âge\": 'tranche_age',\n",
    "    'Geo Point': 'geo_point'\n",
    "    })"
   ]
  },
  {
   "cell_type": "markdown",
   "metadata": {},
   "source": [
    "__Region mapping__"
   ]
  },
  {
   "cell_type": "code",
   "execution_count": 6,
   "metadata": {
    "ExecuteTime": {
     "end_time": "2020-03-29T18:17:03.307073Z",
     "start_time": "2020-03-29T18:17:03.263831Z"
    }
   },
   "outputs": [
    {
     "data": {
      "text/plain": [
       "{24: 'Centre-Val de Loire',\n",
       " 94: 'Corse',\n",
       " 52: 'Pays de la Loire',\n",
       " 75: 'Nouvelle-Aquitaine',\n",
       " 53: 'Bretagne',\n",
       " 44: 'Grand Est',\n",
       " 27: 'Bourgogne-Franche-Comté',\n",
       " 32: 'Hauts-de-France',\n",
       " 76: 'Occitanie',\n",
       " 84: 'Auvergne-Rhône-Alpes',\n",
       " 11: 'Île-de-France',\n",
       " 93: \"Provence-Alpes-Côte d'Azur\",\n",
       " 3: 'Guyane',\n",
       " 28: 'Normandie',\n",
       " 1: 'Guadeloupe',\n",
       " 2: 'Martinique',\n",
       " 4: 'La Réunion',\n",
       " 6: 'Mayotte'}"
      ]
     },
     "execution_count": 6,
     "metadata": {},
     "output_type": "execute_result"
    }
   ],
   "source": [
    "region = df[['code_region', 'region']].drop_duplicates().set_index('code_region')['region'].to_dict()\n",
    "region"
   ]
  },
  {
   "cell_type": "markdown",
   "metadata": {},
   "source": [
    "__Age mapping__"
   ]
  },
  {
   "cell_type": "code",
   "execution_count": 7,
   "metadata": {
    "ExecuteTime": {
     "end_time": "2020-03-29T18:17:03.690387Z",
     "start_time": "2020-03-29T18:17:03.666283Z"
    }
   },
   "outputs": [
    {
     "data": {
      "text/plain": [
       "{'45-64 ans': '',\n",
       " '> 74 ans': '',\n",
       " '15-44 ans': '',\n",
       " 'tous âges': '',\n",
       " '65-74 ans': '',\n",
       " '< 15ans': ''}"
      ]
     },
     "execution_count": 7,
     "metadata": {},
     "output_type": "execute_result"
    }
   ],
   "source": [
    "# age_convertissor\n",
    "age = df['tranche_age'].unique().tolist()\n",
    "{i:'' for i in age}"
   ]
  },
  {
   "cell_type": "code",
   "execution_count": 8,
   "metadata": {
    "ExecuteTime": {
     "end_time": "2020-03-29T18:17:04.408768Z",
     "start_time": "2020-03-29T18:17:04.379480Z"
    }
   },
   "outputs": [],
   "source": [
    "age_conv = {'tous âges': 'all',\n",
    " '65-74 ans': '65_74',\n",
    " '15-44 ans': '15_44',\n",
    " '> 74 ans': '74__',\n",
    " '45-64 ans': '45_64',\n",
    " '< 15ans': '__15'}\n",
    "\n",
    "age_rev = {}\n",
    "for k, v in age_conv.items():\n",
    "    age_rev[v]=k\n",
    "age_rev\n",
    "\n",
    "# Saving results\n",
    "age_transformation = {'label_2_value':age_conv, 'value_2_label':age_rev}\n",
    "f.save_pickle(age_transformation, 'age_transformation.p')"
   ]
  },
  {
   "cell_type": "markdown",
   "metadata": {},
   "source": [
    "__finish pre-processing__"
   ]
  },
  {
   "cell_type": "code",
   "execution_count": 9,
   "metadata": {
    "ExecuteTime": {
     "end_time": "2020-03-29T18:17:05.038427Z",
     "start_time": "2020-03-29T18:17:04.985553Z"
    }
   },
   "outputs": [
    {
     "data": {
      "text/html": [
       "<div>\n",
       "<style scoped>\n",
       "    .dataframe tbody tr th:only-of-type {\n",
       "        vertical-align: middle;\n",
       "    }\n",
       "\n",
       "    .dataframe tbody tr th {\n",
       "        vertical-align: top;\n",
       "    }\n",
       "\n",
       "    .dataframe thead th {\n",
       "        text-align: right;\n",
       "    }\n",
       "</style>\n",
       "<table border=\"1\" class=\"dataframe\">\n",
       "  <thead>\n",
       "    <tr style=\"text-align: right;\">\n",
       "      <th></th>\n",
       "      <th>date</th>\n",
       "      <th>urg_susp_t</th>\n",
       "      <th>urg_tot_t</th>\n",
       "      <th>urg_hosp_t</th>\n",
       "      <th>urg_susp_h</th>\n",
       "      <th>urg_susp_f</th>\n",
       "      <th>urg_tot_h</th>\n",
       "      <th>urg_tot_f</th>\n",
       "      <th>urg_hosp_h</th>\n",
       "      <th>urg_hosp_f</th>\n",
       "      <th>sos_susp_t</th>\n",
       "      <th>sos_tot_t</th>\n",
       "      <th>sos_susp_h</th>\n",
       "      <th>sos_susp_f</th>\n",
       "      <th>sos_tot_h</th>\n",
       "      <th>sos_tot_f</th>\n",
       "      <th>code_region</th>\n",
       "      <th>geo_point</th>\n",
       "      <th>age</th>\n",
       "    </tr>\n",
       "  </thead>\n",
       "  <tbody>\n",
       "    <tr>\n",
       "      <th>0</th>\n",
       "      <td>2020-03-22</td>\n",
       "      <td>2.0</td>\n",
       "      <td>40.0</td>\n",
       "      <td>1.0</td>\n",
       "      <td>NaN</td>\n",
       "      <td>NaN</td>\n",
       "      <td>NaN</td>\n",
       "      <td>NaN</td>\n",
       "      <td>NaN</td>\n",
       "      <td>NaN</td>\n",
       "      <td>NaN</td>\n",
       "      <td>NaN</td>\n",
       "      <td>NaN</td>\n",
       "      <td>NaN</td>\n",
       "      <td>NaN</td>\n",
       "      <td>NaN</td>\n",
       "      <td>24</td>\n",
       "      <td>48.3904369966,1.36981669854</td>\n",
       "      <td>45_64</td>\n",
       "    </tr>\n",
       "    <tr>\n",
       "      <th>1</th>\n",
       "      <td>2020-03-22</td>\n",
       "      <td>3.0</td>\n",
       "      <td>12.0</td>\n",
       "      <td>3.0</td>\n",
       "      <td>NaN</td>\n",
       "      <td>NaN</td>\n",
       "      <td>NaN</td>\n",
       "      <td>NaN</td>\n",
       "      <td>NaN</td>\n",
       "      <td>NaN</td>\n",
       "      <td>NaN</td>\n",
       "      <td>NaN</td>\n",
       "      <td>NaN</td>\n",
       "      <td>NaN</td>\n",
       "      <td>NaN</td>\n",
       "      <td>NaN</td>\n",
       "      <td>94</td>\n",
       "      <td>42.3944507303,9.21065397337</td>\n",
       "      <td>74__</td>\n",
       "    </tr>\n",
       "    <tr>\n",
       "      <th>2</th>\n",
       "      <td>2020-03-22</td>\n",
       "      <td>12.0</td>\n",
       "      <td>39.0</td>\n",
       "      <td>12.0</td>\n",
       "      <td>NaN</td>\n",
       "      <td>NaN</td>\n",
       "      <td>NaN</td>\n",
       "      <td>NaN</td>\n",
       "      <td>NaN</td>\n",
       "      <td>NaN</td>\n",
       "      <td>4.0</td>\n",
       "      <td>64.0</td>\n",
       "      <td>NaN</td>\n",
       "      <td>NaN</td>\n",
       "      <td>NaN</td>\n",
       "      <td>NaN</td>\n",
       "      <td>52</td>\n",
       "      <td>47.3612553393,-1.6750424562</td>\n",
       "      <td>74__</td>\n",
       "    </tr>\n",
       "    <tr>\n",
       "      <th>3</th>\n",
       "      <td>2020-03-22</td>\n",
       "      <td>5.0</td>\n",
       "      <td>30.0</td>\n",
       "      <td>0.0</td>\n",
       "      <td>NaN</td>\n",
       "      <td>NaN</td>\n",
       "      <td>NaN</td>\n",
       "      <td>NaN</td>\n",
       "      <td>NaN</td>\n",
       "      <td>NaN</td>\n",
       "      <td>NaN</td>\n",
       "      <td>NaN</td>\n",
       "      <td>NaN</td>\n",
       "      <td>NaN</td>\n",
       "      <td>NaN</td>\n",
       "      <td>NaN</td>\n",
       "      <td>75</td>\n",
       "      <td>44.3650343519,0.459260227242</td>\n",
       "      <td>15_44</td>\n",
       "    </tr>\n",
       "    <tr>\n",
       "      <th>4</th>\n",
       "      <td>2020-03-22</td>\n",
       "      <td>11.0</td>\n",
       "      <td>67.0</td>\n",
       "      <td>0.0</td>\n",
       "      <td>NaN</td>\n",
       "      <td>NaN</td>\n",
       "      <td>NaN</td>\n",
       "      <td>NaN</td>\n",
       "      <td>NaN</td>\n",
       "      <td>NaN</td>\n",
       "      <td>4.0</td>\n",
       "      <td>23.0</td>\n",
       "      <td>NaN</td>\n",
       "      <td>NaN</td>\n",
       "      <td>NaN</td>\n",
       "      <td>NaN</td>\n",
       "      <td>53</td>\n",
       "      <td>47.8441455862,-2.8088066223</td>\n",
       "      <td>15_44</td>\n",
       "    </tr>\n",
       "  </tbody>\n",
       "</table>\n",
       "</div>"
      ],
      "text/plain": [
       "         date  urg_susp_t  urg_tot_t  urg_hosp_t  urg_susp_h  urg_susp_f  \\\n",
       "0  2020-03-22         2.0       40.0         1.0         NaN         NaN   \n",
       "1  2020-03-22         3.0       12.0         3.0         NaN         NaN   \n",
       "2  2020-03-22        12.0       39.0        12.0         NaN         NaN   \n",
       "3  2020-03-22         5.0       30.0         0.0         NaN         NaN   \n",
       "4  2020-03-22        11.0       67.0         0.0         NaN         NaN   \n",
       "\n",
       "   urg_tot_h  urg_tot_f  urg_hosp_h  urg_hosp_f  sos_susp_t  sos_tot_t  \\\n",
       "0        NaN        NaN         NaN         NaN         NaN        NaN   \n",
       "1        NaN        NaN         NaN         NaN         NaN        NaN   \n",
       "2        NaN        NaN         NaN         NaN         4.0       64.0   \n",
       "3        NaN        NaN         NaN         NaN         NaN        NaN   \n",
       "4        NaN        NaN         NaN         NaN         4.0       23.0   \n",
       "\n",
       "   sos_susp_h  sos_susp_f  sos_tot_h  sos_tot_f  code_region  \\\n",
       "0         NaN         NaN        NaN        NaN           24   \n",
       "1         NaN         NaN        NaN        NaN           94   \n",
       "2         NaN         NaN        NaN        NaN           52   \n",
       "3         NaN         NaN        NaN        NaN           75   \n",
       "4         NaN         NaN        NaN        NaN           53   \n",
       "\n",
       "                      geo_point    age  \n",
       "0   48.3904369966,1.36981669854  45_64  \n",
       "1   42.3944507303,9.21065397337   74__  \n",
       "2   47.3612553393,-1.6750424562   74__  \n",
       "3  44.3650343519,0.459260227242  15_44  \n",
       "4   47.8441455862,-2.8088066223  15_44  "
      ]
     },
     "execution_count": 9,
     "metadata": {},
     "output_type": "execute_result"
    }
   ],
   "source": [
    "df['age'] = df['tranche_age'].apply(lambda x: age_conv[x])\n",
    "df = df.drop(['code_dept', 'dept', 'iso_zone', 'region', 'tranche_age', 'region'], axis = 1)\n",
    "df.head()"
   ]
  },
  {
   "cell_type": "markdown",
   "metadata": {},
   "source": [
    "# Creating 3 data frames for H/F/All"
   ]
  },
  {
   "cell_type": "code",
   "execution_count": 10,
   "metadata": {
    "ExecuteTime": {
     "end_time": "2020-03-29T18:17:05.375835Z",
     "start_time": "2020-03-29T18:17:05.347378Z"
    }
   },
   "outputs": [],
   "source": [
    "def clean_df(df, to_keep, to_del_1, to_del_3):\n",
    "    col_t = [col for col in df.columns.tolist() if ((col[-2:]!=to_del_1) and (col[-2:]!=to_del_3))]\n",
    "    df_t = df[col_t]\n",
    "    agg_dict = {col:'sum'  for col in col_t if to_keep in col}\n",
    "    agg_dict['geo_point'] = 'last'\n",
    "    df_t = df_t.groupby(['date','code_region', 'age']).agg(agg_dict)\n",
    "    df_t.columns = [col[:-2] if col.endswith(to_keep) else col for col in df_t.columns ]\n",
    "    df_t.columns = ['urg_tot', 'urg_susp', 'urg_hosp', 'sos_tot', 'sos_susp', 'geo_point']\n",
    "    df_t['lat'] = df_t['geo_point'].apply(lambda x: x.split(',')[0])\n",
    "    df_t['lon'] = df_t['geo_point'].apply(lambda x: x.split(',')[1])\n",
    "    df_t = df_t.drop('geo_point', axis=1)\n",
    "    return df_t"
   ]
  },
  {
   "cell_type": "code",
   "execution_count": 11,
   "metadata": {
    "ExecuteTime": {
     "end_time": "2020-03-29T18:17:05.888998Z",
     "start_time": "2020-03-29T18:17:05.796037Z"
    }
   },
   "outputs": [],
   "source": [
    "df_h = clean_df(df, '_h', '_f', '_t')\n",
    "df_f = clean_df(df, '_f', '_h', '_t')\n",
    "df_t = clean_df(df, '_t', '_f', '_h')\n",
    "\n",
    "f.save_pickle(df_h, 'df_sos_h.p')\n",
    "f.save_pickle(df_f, 'df_sos_f.p')\n",
    "f.save_pickle(df_t, 'df_sos_t.p')"
   ]
  },
  {
   "cell_type": "markdown",
   "metadata": {},
   "source": [
    "# Exploration"
   ]
  },
  {
   "cell_type": "markdown",
   "metadata": {},
   "source": [
    "__Re-Loading__"
   ]
  },
  {
   "cell_type": "code",
   "execution_count": 12,
   "metadata": {
    "ExecuteTime": {
     "end_time": "2020-03-29T18:17:07.397451Z",
     "start_time": "2020-03-29T18:17:07.365319Z"
    }
   },
   "outputs": [],
   "source": [
    "df_h = f.load_pickle('df_sos_h.p')\n",
    "df_f = f.load_pickle('df_sos_f.p')\n",
    "df_t = f.load_pickle('df_sos_t.p')"
   ]
  },
  {
   "cell_type": "markdown",
   "metadata": {},
   "source": [
    "__Comparaison de la somme H+F = total__"
   ]
  },
  {
   "cell_type": "code",
   "execution_count": 13,
   "metadata": {
    "ExecuteTime": {
     "end_time": "2020-03-29T18:13:58.766112Z",
     "start_time": "2020-03-29T18:13:58.686989Z"
    }
   },
   "outputs": [
    {
     "data": {
      "text/html": [
       "<div>\n",
       "<style scoped>\n",
       "    .dataframe tbody tr th:only-of-type {\n",
       "        vertical-align: middle;\n",
       "    }\n",
       "\n",
       "    .dataframe tbody tr th {\n",
       "        vertical-align: top;\n",
       "    }\n",
       "\n",
       "    .dataframe thead th {\n",
       "        text-align: right;\n",
       "    }\n",
       "</style>\n",
       "<table border=\"1\" class=\"dataframe\">\n",
       "  <thead>\n",
       "    <tr style=\"text-align: right;\">\n",
       "      <th></th>\n",
       "      <th></th>\n",
       "      <th></th>\n",
       "      <th>urg_tot</th>\n",
       "      <th>urg_susp</th>\n",
       "      <th>urg_hosp</th>\n",
       "      <th>sos_tot</th>\n",
       "      <th>sos_susp</th>\n",
       "      <th>lat</th>\n",
       "      <th>lon</th>\n",
       "    </tr>\n",
       "    <tr>\n",
       "      <th>date</th>\n",
       "      <th>code_region</th>\n",
       "      <th>age</th>\n",
       "      <th></th>\n",
       "      <th></th>\n",
       "      <th></th>\n",
       "      <th></th>\n",
       "      <th></th>\n",
       "      <th></th>\n",
       "      <th></th>\n",
       "    </tr>\n",
       "  </thead>\n",
       "  <tbody>\n",
       "    <tr>\n",
       "      <th rowspan=\"6\" valign=\"top\">2020-02-24</th>\n",
       "      <th rowspan=\"6\" valign=\"top\">1</th>\n",
       "      <th>15_44</th>\n",
       "      <td>0.0</td>\n",
       "      <td>0.0</td>\n",
       "      <td>0.0</td>\n",
       "      <td>0.0</td>\n",
       "      <td>0.0</td>\n",
       "      <td>16.19764633716.197646337</td>\n",
       "      <td>-61.5397927924-61.5397927924</td>\n",
       "    </tr>\n",
       "    <tr>\n",
       "      <th>45_64</th>\n",
       "      <td>0.0</td>\n",
       "      <td>0.0</td>\n",
       "      <td>0.0</td>\n",
       "      <td>0.0</td>\n",
       "      <td>0.0</td>\n",
       "      <td>16.19764633716.197646337</td>\n",
       "      <td>-61.5397927924-61.5397927924</td>\n",
       "    </tr>\n",
       "    <tr>\n",
       "      <th>65_74</th>\n",
       "      <td>0.0</td>\n",
       "      <td>0.0</td>\n",
       "      <td>0.0</td>\n",
       "      <td>0.0</td>\n",
       "      <td>0.0</td>\n",
       "      <td>16.19764633716.197646337</td>\n",
       "      <td>-61.5397927924-61.5397927924</td>\n",
       "    </tr>\n",
       "    <tr>\n",
       "      <th>74__</th>\n",
       "      <td>0.0</td>\n",
       "      <td>0.0</td>\n",
       "      <td>0.0</td>\n",
       "      <td>0.0</td>\n",
       "      <td>0.0</td>\n",
       "      <td>16.19764633716.197646337</td>\n",
       "      <td>-61.5397927924-61.5397927924</td>\n",
       "    </tr>\n",
       "    <tr>\n",
       "      <th>__15</th>\n",
       "      <td>0.0</td>\n",
       "      <td>0.0</td>\n",
       "      <td>0.0</td>\n",
       "      <td>0.0</td>\n",
       "      <td>0.0</td>\n",
       "      <td>16.19764633716.197646337</td>\n",
       "      <td>-61.5397927924-61.5397927924</td>\n",
       "    </tr>\n",
       "    <tr>\n",
       "      <th>all</th>\n",
       "      <td>0.0</td>\n",
       "      <td>300.0</td>\n",
       "      <td>0.0</td>\n",
       "      <td>0.0</td>\n",
       "      <td>0.0</td>\n",
       "      <td>16.19764633716.197646337</td>\n",
       "      <td>-61.5397927924-61.5397927924</td>\n",
       "    </tr>\n",
       "  </tbody>\n",
       "</table>\n",
       "</div>"
      ],
      "text/plain": [
       "                              urg_tot  urg_susp  urg_hosp  sos_tot  sos_susp  \\\n",
       "date       code_region age                                                     \n",
       "2020-02-24 1           15_44      0.0       0.0       0.0      0.0       0.0   \n",
       "                       45_64      0.0       0.0       0.0      0.0       0.0   \n",
       "                       65_74      0.0       0.0       0.0      0.0       0.0   \n",
       "                       74__       0.0       0.0       0.0      0.0       0.0   \n",
       "                       __15       0.0       0.0       0.0      0.0       0.0   \n",
       "                       all        0.0     300.0       0.0      0.0       0.0   \n",
       "\n",
       "                                                   lat  \\\n",
       "date       code_region age                               \n",
       "2020-02-24 1           15_44  16.19764633716.197646337   \n",
       "                       45_64  16.19764633716.197646337   \n",
       "                       65_74  16.19764633716.197646337   \n",
       "                       74__   16.19764633716.197646337   \n",
       "                       __15   16.19764633716.197646337   \n",
       "                       all    16.19764633716.197646337   \n",
       "\n",
       "                                                       lon  \n",
       "date       code_region age                                  \n",
       "2020-02-24 1           15_44  -61.5397927924-61.5397927924  \n",
       "                       45_64  -61.5397927924-61.5397927924  \n",
       "                       65_74  -61.5397927924-61.5397927924  \n",
       "                       74__   -61.5397927924-61.5397927924  \n",
       "                       __15   -61.5397927924-61.5397927924  \n",
       "                       all    -61.5397927924-61.5397927924  "
      ]
     },
     "execution_count": 13,
     "metadata": {},
     "output_type": "execute_result"
    }
   ],
   "source": [
    "(df_h + df_f).head(6)"
   ]
  },
  {
   "cell_type": "code",
   "execution_count": 14,
   "metadata": {
    "ExecuteTime": {
     "end_time": "2020-03-29T18:13:59.258830Z",
     "start_time": "2020-03-29T18:13:59.189525Z"
    }
   },
   "outputs": [
    {
     "data": {
      "text/html": [
       "<div>\n",
       "<style scoped>\n",
       "    .dataframe tbody tr th:only-of-type {\n",
       "        vertical-align: middle;\n",
       "    }\n",
       "\n",
       "    .dataframe tbody tr th {\n",
       "        vertical-align: top;\n",
       "    }\n",
       "\n",
       "    .dataframe thead th {\n",
       "        text-align: right;\n",
       "    }\n",
       "</style>\n",
       "<table border=\"1\" class=\"dataframe\">\n",
       "  <thead>\n",
       "    <tr style=\"text-align: right;\">\n",
       "      <th></th>\n",
       "      <th></th>\n",
       "      <th></th>\n",
       "      <th>urg_tot</th>\n",
       "      <th>urg_susp</th>\n",
       "      <th>urg_hosp</th>\n",
       "      <th>sos_tot</th>\n",
       "      <th>sos_susp</th>\n",
       "      <th>lat</th>\n",
       "      <th>lon</th>\n",
       "    </tr>\n",
       "    <tr>\n",
       "      <th>date</th>\n",
       "      <th>code_region</th>\n",
       "      <th>age</th>\n",
       "      <th></th>\n",
       "      <th></th>\n",
       "      <th></th>\n",
       "      <th></th>\n",
       "      <th></th>\n",
       "      <th></th>\n",
       "      <th></th>\n",
       "    </tr>\n",
       "  </thead>\n",
       "  <tbody>\n",
       "    <tr>\n",
       "      <th rowspan=\"10\" valign=\"top\">2020-02-24</th>\n",
       "      <th rowspan=\"6\" valign=\"top\">1</th>\n",
       "      <th>15_44</th>\n",
       "      <td>0.0</td>\n",
       "      <td>102.0</td>\n",
       "      <td>0.0</td>\n",
       "      <td>0.0</td>\n",
       "      <td>0.0</td>\n",
       "      <td>16.197646337</td>\n",
       "      <td>-61.5397927924</td>\n",
       "    </tr>\n",
       "    <tr>\n",
       "      <th>45_64</th>\n",
       "      <td>0.0</td>\n",
       "      <td>68.0</td>\n",
       "      <td>0.0</td>\n",
       "      <td>0.0</td>\n",
       "      <td>0.0</td>\n",
       "      <td>16.197646337</td>\n",
       "      <td>-61.5397927924</td>\n",
       "    </tr>\n",
       "    <tr>\n",
       "      <th>65_74</th>\n",
       "      <td>0.0</td>\n",
       "      <td>20.0</td>\n",
       "      <td>0.0</td>\n",
       "      <td>0.0</td>\n",
       "      <td>0.0</td>\n",
       "      <td>16.197646337</td>\n",
       "      <td>-61.5397927924</td>\n",
       "    </tr>\n",
       "    <tr>\n",
       "      <th>74__</th>\n",
       "      <td>0.0</td>\n",
       "      <td>35.0</td>\n",
       "      <td>0.0</td>\n",
       "      <td>0.0</td>\n",
       "      <td>0.0</td>\n",
       "      <td>16.197646337</td>\n",
       "      <td>-61.5397927924</td>\n",
       "    </tr>\n",
       "    <tr>\n",
       "      <th>__15</th>\n",
       "      <td>0.0</td>\n",
       "      <td>75.0</td>\n",
       "      <td>0.0</td>\n",
       "      <td>0.0</td>\n",
       "      <td>0.0</td>\n",
       "      <td>16.197646337</td>\n",
       "      <td>-61.5397927924</td>\n",
       "    </tr>\n",
       "    <tr>\n",
       "      <th>all</th>\n",
       "      <td>0.0</td>\n",
       "      <td>300.0</td>\n",
       "      <td>0.0</td>\n",
       "      <td>0.0</td>\n",
       "      <td>0.0</td>\n",
       "      <td>16.197646337</td>\n",
       "      <td>-61.5397927924</td>\n",
       "    </tr>\n",
       "    <tr>\n",
       "      <th rowspan=\"4\" valign=\"top\">2</th>\n",
       "      <th>15_44</th>\n",
       "      <td>0.0</td>\n",
       "      <td>0.0</td>\n",
       "      <td>0.0</td>\n",
       "      <td>0.0</td>\n",
       "      <td>28.0</td>\n",
       "      <td>14.6548621716</td>\n",
       "      <td>-61.0193671014</td>\n",
       "    </tr>\n",
       "    <tr>\n",
       "      <th>45_64</th>\n",
       "      <td>0.0</td>\n",
       "      <td>0.0</td>\n",
       "      <td>0.0</td>\n",
       "      <td>0.0</td>\n",
       "      <td>25.0</td>\n",
       "      <td>14.6548621716</td>\n",
       "      <td>-61.0193671014</td>\n",
       "    </tr>\n",
       "    <tr>\n",
       "      <th>65_74</th>\n",
       "      <td>0.0</td>\n",
       "      <td>0.0</td>\n",
       "      <td>0.0</td>\n",
       "      <td>0.0</td>\n",
       "      <td>9.0</td>\n",
       "      <td>14.6548621716</td>\n",
       "      <td>-61.0193671014</td>\n",
       "    </tr>\n",
       "    <tr>\n",
       "      <th>74__</th>\n",
       "      <td>0.0</td>\n",
       "      <td>0.0</td>\n",
       "      <td>0.0</td>\n",
       "      <td>0.0</td>\n",
       "      <td>15.0</td>\n",
       "      <td>14.6548621716</td>\n",
       "      <td>-61.0193671014</td>\n",
       "    </tr>\n",
       "  </tbody>\n",
       "</table>\n",
       "</div>"
      ],
      "text/plain": [
       "                              urg_tot  urg_susp  urg_hosp  sos_tot  sos_susp  \\\n",
       "date       code_region age                                                     \n",
       "2020-02-24 1           15_44      0.0     102.0       0.0      0.0       0.0   \n",
       "                       45_64      0.0      68.0       0.0      0.0       0.0   \n",
       "                       65_74      0.0      20.0       0.0      0.0       0.0   \n",
       "                       74__       0.0      35.0       0.0      0.0       0.0   \n",
       "                       __15       0.0      75.0       0.0      0.0       0.0   \n",
       "                       all        0.0     300.0       0.0      0.0       0.0   \n",
       "           2           15_44      0.0       0.0       0.0      0.0      28.0   \n",
       "                       45_64      0.0       0.0       0.0      0.0      25.0   \n",
       "                       65_74      0.0       0.0       0.0      0.0       9.0   \n",
       "                       74__       0.0       0.0       0.0      0.0      15.0   \n",
       "\n",
       "                                        lat             lon  \n",
       "date       code_region age                                   \n",
       "2020-02-24 1           15_44   16.197646337  -61.5397927924  \n",
       "                       45_64   16.197646337  -61.5397927924  \n",
       "                       65_74   16.197646337  -61.5397927924  \n",
       "                       74__    16.197646337  -61.5397927924  \n",
       "                       __15    16.197646337  -61.5397927924  \n",
       "                       all     16.197646337  -61.5397927924  \n",
       "           2           15_44  14.6548621716  -61.0193671014  \n",
       "                       45_64  14.6548621716  -61.0193671014  \n",
       "                       65_74  14.6548621716  -61.0193671014  \n",
       "                       74__   14.6548621716  -61.0193671014  "
      ]
     },
     "execution_count": 14,
     "metadata": {},
     "output_type": "execute_result"
    }
   ],
   "source": [
    "df_t.head(10)"
   ]
  },
  {
   "cell_type": "markdown",
   "metadata": {},
   "source": [
    "__Filtering__"
   ]
  },
  {
   "cell_type": "code",
   "execution_count": 80,
   "metadata": {},
   "outputs": [
    {
     "data": {
      "text/html": [
       "<div>\n",
       "<style scoped>\n",
       "    .dataframe tbody tr th:only-of-type {\n",
       "        vertical-align: middle;\n",
       "    }\n",
       "\n",
       "    .dataframe tbody tr th {\n",
       "        vertical-align: top;\n",
       "    }\n",
       "\n",
       "    .dataframe thead th {\n",
       "        text-align: right;\n",
       "    }\n",
       "</style>\n",
       "<table border=\"1\" class=\"dataframe\">\n",
       "  <thead>\n",
       "    <tr style=\"text-align: right;\">\n",
       "      <th></th>\n",
       "      <th>code_region</th>\n",
       "      <th>urg_tot</th>\n",
       "      <th>lat</th>\n",
       "      <th>lon</th>\n",
       "    </tr>\n",
       "  </thead>\n",
       "  <tbody>\n",
       "    <tr>\n",
       "      <th>0</th>\n",
       "      <td>11</td>\n",
       "      <td>266.0</td>\n",
       "      <td>48.9083101579</td>\n",
       "      <td>2.48332622588</td>\n",
       "    </tr>\n",
       "    <tr>\n",
       "      <th>1</th>\n",
       "      <td>24</td>\n",
       "      <td>47.0</td>\n",
       "      <td>48.3904369966</td>\n",
       "      <td>1.36981669854</td>\n",
       "    </tr>\n",
       "    <tr>\n",
       "      <th>2</th>\n",
       "      <td>28</td>\n",
       "      <td>216.0</td>\n",
       "      <td>49.1173587925</td>\n",
       "      <td>0.994646492411</td>\n",
       "    </tr>\n",
       "    <tr>\n",
       "      <th>3</th>\n",
       "      <td>32</td>\n",
       "      <td>0.0</td>\n",
       "      <td>49.5565688819</td>\n",
       "      <td>3.5620366046</td>\n",
       "    </tr>\n",
       "    <tr>\n",
       "      <th>4</th>\n",
       "      <td>44</td>\n",
       "      <td>52.0</td>\n",
       "      <td>48.1122966595</td>\n",
       "      <td>5.22903858107</td>\n",
       "    </tr>\n",
       "    <tr>\n",
       "      <th>5</th>\n",
       "      <td>52</td>\n",
       "      <td>347.0</td>\n",
       "      <td>48.1463719594</td>\n",
       "      <td>-0.65589089497</td>\n",
       "    </tr>\n",
       "    <tr>\n",
       "      <th>6</th>\n",
       "      <td>75</td>\n",
       "      <td>26.0</td>\n",
       "      <td>45.1059247866</td>\n",
       "      <td>0.741353186486</td>\n",
       "    </tr>\n",
       "    <tr>\n",
       "      <th>7</th>\n",
       "      <td>76</td>\n",
       "      <td>948.0</td>\n",
       "      <td>43.1040405728</td>\n",
       "      <td>2.41617917074</td>\n",
       "    </tr>\n",
       "    <tr>\n",
       "      <th>8</th>\n",
       "      <td>84</td>\n",
       "      <td>0.0</td>\n",
       "      <td>44.7532685394</td>\n",
       "      <td>4.42389358891</td>\n",
       "    </tr>\n",
       "    <tr>\n",
       "      <th>9</th>\n",
       "      <td>93</td>\n",
       "      <td>230.0</td>\n",
       "      <td>43.93340912</td>\n",
       "      <td>7.11989042987</td>\n",
       "    </tr>\n",
       "  </tbody>\n",
       "</table>\n",
       "</div>"
      ],
      "text/plain": [
       "   code_region  urg_tot            lat             lon\n",
       "0           11    266.0  48.9083101579   2.48332622588\n",
       "1           24     47.0  48.3904369966   1.36981669854\n",
       "2           28    216.0  49.1173587925  0.994646492411\n",
       "3           32      0.0  49.5565688819    3.5620366046\n",
       "4           44     52.0  48.1122966595   5.22903858107\n",
       "5           52    347.0  48.1463719594  -0.65589089497\n",
       "6           75     26.0  45.1059247866  0.741353186486\n",
       "7           76    948.0  43.1040405728   2.41617917074\n",
       "8           84      0.0  44.7532685394   4.42389358891\n",
       "9           93    230.0    43.93340912   7.11989042987"
      ]
     },
     "execution_count": 80,
     "metadata": {},
     "output_type": "execute_result"
    }
   ],
   "source": [
    "# Cas d'une journée par région\n",
    "df_t.xs('2020-03-21').xs('all', level=1)[['urg_tot', 'lat','lon']].reset_index()"
   ]
  },
  {
   "cell_type": "code",
   "execution_count": 21,
   "metadata": {},
   "outputs": [
    {
     "data": {
      "text/html": [
       "<div>\n",
       "<style scoped>\n",
       "    .dataframe tbody tr th:only-of-type {\n",
       "        vertical-align: middle;\n",
       "    }\n",
       "\n",
       "    .dataframe tbody tr th {\n",
       "        vertical-align: top;\n",
       "    }\n",
       "\n",
       "    .dataframe thead th {\n",
       "        text-align: right;\n",
       "    }\n",
       "</style>\n",
       "<table border=\"1\" class=\"dataframe\">\n",
       "  <thead>\n",
       "    <tr style=\"text-align: right;\">\n",
       "      <th></th>\n",
       "      <th>urg_tot</th>\n",
       "      <th>urg_susp</th>\n",
       "      <th>urg_hosp</th>\n",
       "      <th>sos_tot</th>\n",
       "      <th>sos_susp</th>\n",
       "      <th>lat</th>\n",
       "      <th>lon</th>\n",
       "    </tr>\n",
       "    <tr>\n",
       "      <th>age</th>\n",
       "      <th></th>\n",
       "      <th></th>\n",
       "      <th></th>\n",
       "      <th></th>\n",
       "      <th></th>\n",
       "      <th></th>\n",
       "      <th></th>\n",
       "    </tr>\n",
       "  </thead>\n",
       "  <tbody>\n",
       "    <tr>\n",
       "      <th>15_44</th>\n",
       "      <td>106.0</td>\n",
       "      <td>1365.0</td>\n",
       "      <td>30.0</td>\n",
       "      <td>237.0</td>\n",
       "      <td>1051.0</td>\n",
       "      <td>48.8557954256</td>\n",
       "      <td>2.34411308321</td>\n",
       "    </tr>\n",
       "    <tr>\n",
       "      <th>45_64</th>\n",
       "      <td>75.0</td>\n",
       "      <td>833.0</td>\n",
       "      <td>35.0</td>\n",
       "      <td>91.0</td>\n",
       "      <td>480.0</td>\n",
       "      <td>48.8557954256</td>\n",
       "      <td>2.34411308321</td>\n",
       "    </tr>\n",
       "    <tr>\n",
       "      <th>65_74</th>\n",
       "      <td>28.0</td>\n",
       "      <td>354.0</td>\n",
       "      <td>13.0</td>\n",
       "      <td>29.0</td>\n",
       "      <td>191.0</td>\n",
       "      <td>48.7692936982</td>\n",
       "      <td>2.47462077077</td>\n",
       "    </tr>\n",
       "    <tr>\n",
       "      <th>74__</th>\n",
       "      <td>50.0</td>\n",
       "      <td>708.0</td>\n",
       "      <td>46.0</td>\n",
       "      <td>28.0</td>\n",
       "      <td>274.0</td>\n",
       "      <td>48.7692936982</td>\n",
       "      <td>2.47462077077</td>\n",
       "    </tr>\n",
       "    <tr>\n",
       "      <th>__15</th>\n",
       "      <td>7.0</td>\n",
       "      <td>692.0</td>\n",
       "      <td>1.0</td>\n",
       "      <td>57.0</td>\n",
       "      <td>623.0</td>\n",
       "      <td>48.7692936982</td>\n",
       "      <td>2.47462077077</td>\n",
       "    </tr>\n",
       "    <tr>\n",
       "      <th>all</th>\n",
       "      <td>266.0</td>\n",
       "      <td>3952.0</td>\n",
       "      <td>125.0</td>\n",
       "      <td>443.0</td>\n",
       "      <td>2621.0</td>\n",
       "      <td>48.9083101579</td>\n",
       "      <td>2.48332622588</td>\n",
       "    </tr>\n",
       "  </tbody>\n",
       "</table>\n",
       "</div>"
      ],
      "text/plain": [
       "       urg_tot  urg_susp  urg_hosp  sos_tot  sos_susp            lat  \\\n",
       "age                                                                    \n",
       "15_44    106.0    1365.0      30.0    237.0    1051.0  48.8557954256   \n",
       "45_64     75.0     833.0      35.0     91.0     480.0  48.8557954256   \n",
       "65_74     28.0     354.0      13.0     29.0     191.0  48.7692936982   \n",
       "74__      50.0     708.0      46.0     28.0     274.0  48.7692936982   \n",
       "__15       7.0     692.0       1.0     57.0     623.0  48.7692936982   \n",
       "all      266.0    3952.0     125.0    443.0    2621.0  48.9083101579   \n",
       "\n",
       "                 lon  \n",
       "age                   \n",
       "15_44  2.34411308321  \n",
       "45_64  2.34411308321  \n",
       "65_74  2.47462077077  \n",
       "74__   2.47462077077  \n",
       "__15   2.47462077077  \n",
       "all    2.48332622588  "
      ]
     },
     "execution_count": 21,
     "metadata": {},
     "output_type": "execute_result"
    }
   ],
   "source": [
    "# Cas d'une journée par tranche d'age\n",
    "df_t.xs('2020-03-21').xs(11)#.sum()"
   ]
  },
  {
   "cell_type": "code",
   "execution_count": 64,
   "metadata": {},
   "outputs": [
    {
     "data": {
      "text/plain": [
       "age\n",
       "15_44    1365.0\n",
       "45_64     833.0\n",
       "65_74     354.0\n",
       "74__      708.0\n",
       "__15      692.0\n",
       "all      3952.0\n",
       "Name: urg_susp, dtype: float64"
      ]
     },
     "execution_count": 64,
     "metadata": {},
     "output_type": "execute_result"
    }
   ],
   "source": [
    "# Repartition de l'age pour une journée eet une région donnée\n",
    "df_t.xs(jour).xs(region)[col]"
   ]
  },
  {
   "cell_type": "code",
   "execution_count": 20,
   "metadata": {
    "ExecuteTime": {
     "end_time": "2020-03-29T00:01:44.311408Z",
     "start_time": "2020-03-29T00:01:44.267991Z"
    }
   },
   "outputs": [
    {
     "data": {
      "text/plain": [
       "urg_tot                                                  1012\n",
       "urg_susp                                                10094\n",
       "urg_hosp                                                  428\n",
       "sos_tot                                                   723\n",
       "sos_susp                                                 4258\n",
       "lat         48.908310157948.390436996649.117358792549.5565...\n",
       "lon         2.483326225881.369816698540.9946464924113.5620...\n",
       "dtype: object"
      ]
     },
     "execution_count": 20,
     "metadata": {},
     "output_type": "execute_result"
    }
   ],
   "source": [
    "# Total en France pur un jour donné\n",
    "df_h.xs('2020-03-21').xs('all', level=1).sum()"
   ]
  },
  {
   "cell_type": "code",
   "execution_count": 25,
   "metadata": {
    "ExecuteTime": {
     "end_time": "2020-03-29T00:02:56.094559Z",
     "start_time": "2020-03-29T00:02:56.041813Z"
    }
   },
   "outputs": [
    {
     "data": {
      "text/html": [
       "<div>\n",
       "<style scoped>\n",
       "    .dataframe tbody tr th:only-of-type {\n",
       "        vertical-align: middle;\n",
       "    }\n",
       "\n",
       "    .dataframe tbody tr th {\n",
       "        vertical-align: top;\n",
       "    }\n",
       "\n",
       "    .dataframe thead th {\n",
       "        text-align: right;\n",
       "    }\n",
       "</style>\n",
       "<table border=\"1\" class=\"dataframe\">\n",
       "  <thead>\n",
       "    <tr style=\"text-align: right;\">\n",
       "      <th></th>\n",
       "      <th>urg_tot</th>\n",
       "      <th>urg_susp</th>\n",
       "      <th>urg_hosp</th>\n",
       "      <th>sos_tot</th>\n",
       "      <th>sos_susp</th>\n",
       "    </tr>\n",
       "    <tr>\n",
       "      <th>date</th>\n",
       "      <th></th>\n",
       "      <th></th>\n",
       "      <th></th>\n",
       "      <th></th>\n",
       "      <th></th>\n",
       "    </tr>\n",
       "  </thead>\n",
       "  <tbody>\n",
       "    <tr>\n",
       "      <th>2020-02-24</th>\n",
       "      <td>1.0</td>\n",
       "      <td>48553.0</td>\n",
       "      <td>0.0</td>\n",
       "      <td>0.0</td>\n",
       "      <td>12071.0</td>\n",
       "    </tr>\n",
       "    <tr>\n",
       "      <th>2020-02-25</th>\n",
       "      <td>1.0</td>\n",
       "      <td>42682.0</td>\n",
       "      <td>0.0</td>\n",
       "      <td>0.0</td>\n",
       "      <td>10913.0</td>\n",
       "    </tr>\n",
       "    <tr>\n",
       "      <th>2020-02-26</th>\n",
       "      <td>0.0</td>\n",
       "      <td>42098.0</td>\n",
       "      <td>0.0</td>\n",
       "      <td>0.0</td>\n",
       "      <td>10815.0</td>\n",
       "    </tr>\n",
       "    <tr>\n",
       "      <th>2020-02-27</th>\n",
       "      <td>18.0</td>\n",
       "      <td>41727.0</td>\n",
       "      <td>1.0</td>\n",
       "      <td>0.0</td>\n",
       "      <td>10764.0</td>\n",
       "    </tr>\n",
       "    <tr>\n",
       "      <th>2020-02-28</th>\n",
       "      <td>31.0</td>\n",
       "      <td>41844.0</td>\n",
       "      <td>6.0</td>\n",
       "      <td>0.0</td>\n",
       "      <td>10411.0</td>\n",
       "    </tr>\n",
       "  </tbody>\n",
       "</table>\n",
       "</div>"
      ],
      "text/plain": [
       "            urg_tot  urg_susp  urg_hosp  sos_tot  sos_susp\n",
       "date                                                      \n",
       "2020-02-24      1.0   48553.0       0.0      0.0   12071.0\n",
       "2020-02-25      1.0   42682.0       0.0      0.0   10913.0\n",
       "2020-02-26      0.0   42098.0       0.0      0.0   10815.0\n",
       "2020-02-27     18.0   41727.0       1.0      0.0   10764.0\n",
       "2020-02-28     31.0   41844.0       6.0      0.0   10411.0"
      ]
     },
     "execution_count": 25,
     "metadata": {},
     "output_type": "execute_result"
    }
   ],
   "source": [
    "# Times Series sur toute la France pour chaque colonne présente\n",
    "tmp = df_t.xs('all', level=2).groupby('date').sum()\n",
    "tmp.head()"
   ]
  },
  {
   "cell_type": "code",
   "execution_count": 26,
   "metadata": {
    "ExecuteTime": {
     "end_time": "2020-03-29T00:03:01.126743Z",
     "start_time": "2020-03-29T00:03:01.088851Z"
    }
   },
   "outputs": [
    {
     "data": {
      "text/html": [
       "<div>\n",
       "<style scoped>\n",
       "    .dataframe tbody tr th:only-of-type {\n",
       "        vertical-align: middle;\n",
       "    }\n",
       "\n",
       "    .dataframe tbody tr th {\n",
       "        vertical-align: top;\n",
       "    }\n",
       "\n",
       "    .dataframe thead th {\n",
       "        text-align: right;\n",
       "    }\n",
       "</style>\n",
       "<table border=\"1\" class=\"dataframe\">\n",
       "  <thead>\n",
       "    <tr style=\"text-align: right;\">\n",
       "      <th></th>\n",
       "      <th>urg_tot</th>\n",
       "      <th>urg_susp</th>\n",
       "      <th>urg_hosp</th>\n",
       "      <th>sos_tot</th>\n",
       "      <th>sos_susp</th>\n",
       "      <th>lat</th>\n",
       "      <th>lon</th>\n",
       "    </tr>\n",
       "    <tr>\n",
       "      <th>date</th>\n",
       "      <th></th>\n",
       "      <th></th>\n",
       "      <th></th>\n",
       "      <th></th>\n",
       "      <th></th>\n",
       "      <th></th>\n",
       "      <th></th>\n",
       "    </tr>\n",
       "  </thead>\n",
       "  <tbody>\n",
       "    <tr>\n",
       "      <th>2020-02-24</th>\n",
       "      <td>0.0</td>\n",
       "      <td>9061.0</td>\n",
       "      <td>0.0</td>\n",
       "      <td>0.0</td>\n",
       "      <td>2816.0</td>\n",
       "      <td>48.7692936982</td>\n",
       "      <td>2.47462077077</td>\n",
       "    </tr>\n",
       "    <tr>\n",
       "      <th>2020-02-25</th>\n",
       "      <td>0.0</td>\n",
       "      <td>7876.0</td>\n",
       "      <td>0.0</td>\n",
       "      <td>0.0</td>\n",
       "      <td>2520.0</td>\n",
       "      <td>48.7692936982</td>\n",
       "      <td>2.47462077077</td>\n",
       "    </tr>\n",
       "    <tr>\n",
       "      <th>2020-02-26</th>\n",
       "      <td>0.0</td>\n",
       "      <td>7783.0</td>\n",
       "      <td>0.0</td>\n",
       "      <td>0.0</td>\n",
       "      <td>2480.0</td>\n",
       "      <td>48.9083101579</td>\n",
       "      <td>2.48332622588</td>\n",
       "    </tr>\n",
       "    <tr>\n",
       "      <th>2020-02-27</th>\n",
       "      <td>9.0</td>\n",
       "      <td>7736.0</td>\n",
       "      <td>1.0</td>\n",
       "      <td>0.0</td>\n",
       "      <td>2490.0</td>\n",
       "      <td>48.8557954256</td>\n",
       "      <td>2.34411308321</td>\n",
       "    </tr>\n",
       "    <tr>\n",
       "      <th>2020-02-28</th>\n",
       "      <td>9.0</td>\n",
       "      <td>7742.0</td>\n",
       "      <td>4.0</td>\n",
       "      <td>0.0</td>\n",
       "      <td>2534.0</td>\n",
       "      <td>48.7692936982</td>\n",
       "      <td>2.47462077077</td>\n",
       "    </tr>\n",
       "  </tbody>\n",
       "</table>\n",
       "</div>"
      ],
      "text/plain": [
       "            urg_tot  urg_susp  urg_hosp  sos_tot  sos_susp            lat  \\\n",
       "date                                                                        \n",
       "2020-02-24      0.0    9061.0       0.0      0.0    2816.0  48.7692936982   \n",
       "2020-02-25      0.0    7876.0       0.0      0.0    2520.0  48.7692936982   \n",
       "2020-02-26      0.0    7783.0       0.0      0.0    2480.0  48.9083101579   \n",
       "2020-02-27      9.0    7736.0       1.0      0.0    2490.0  48.8557954256   \n",
       "2020-02-28      9.0    7742.0       4.0      0.0    2534.0  48.7692936982   \n",
       "\n",
       "                      lon  \n",
       "date                       \n",
       "2020-02-24  2.47462077077  \n",
       "2020-02-25  2.47462077077  \n",
       "2020-02-26  2.48332622588  \n",
       "2020-02-27  2.34411308321  \n",
       "2020-02-28  2.47462077077  "
      ]
     },
     "execution_count": 26,
     "metadata": {},
     "output_type": "execute_result"
    }
   ],
   "source": [
    "# Times Series sur UNE SEULE REGION pour chaque colonne présente\n",
    "region = 11\n",
    "tmp = df_t.xs(region, level=1).xs('all', level=1)\n",
    "tmp.head()"
   ]
  },
  {
   "cell_type": "code",
   "execution_count": null,
   "metadata": {},
   "outputs": [],
   "source": [
    "#tmp = tmp.loc[['__15', '15_44', '45_64', '65_74', '74__', 'all']]"
   ]
  },
  {
   "cell_type": "code",
   "execution_count": 32,
   "metadata": {
    "ExecuteTime": {
     "end_time": "2020-03-29T00:04:05.556296Z",
     "start_time": "2020-03-29T00:04:05.524627Z"
    }
   },
   "outputs": [
    {
     "data": {
      "text/plain": [
       "10094.0"
      ]
     },
     "execution_count": 32,
     "metadata": {},
     "output_type": "execute_result"
    }
   ],
   "source": [
    "# Somme d'un indcateur sur un jour en France\n",
    "jour = '2020-03-21'\n",
    "col = 'urg_susp'\n",
    "tmp = df_h.xs(jour).xs('all', level=1)[col].sum()\n",
    "tmp"
   ]
  },
  {
   "cell_type": "code",
   "execution_count": 33,
   "metadata": {
    "ExecuteTime": {
     "end_time": "2020-03-29T00:04:17.514050Z",
     "start_time": "2020-03-29T00:04:17.467486Z"
    }
   },
   "outputs": [
    {
     "data": {
      "text/html": [
       "<div>\n",
       "<style scoped>\n",
       "    .dataframe tbody tr th:only-of-type {\n",
       "        vertical-align: middle;\n",
       "    }\n",
       "\n",
       "    .dataframe tbody tr th {\n",
       "        vertical-align: top;\n",
       "    }\n",
       "\n",
       "    .dataframe thead th {\n",
       "        text-align: right;\n",
       "    }\n",
       "</style>\n",
       "<table border=\"1\" class=\"dataframe\">\n",
       "  <thead>\n",
       "    <tr style=\"text-align: right;\">\n",
       "      <th></th>\n",
       "      <th>urg_susp</th>\n",
       "      <th>lat</th>\n",
       "      <th>lon</th>\n",
       "    </tr>\n",
       "    <tr>\n",
       "      <th>code_region</th>\n",
       "      <th></th>\n",
       "      <th></th>\n",
       "      <th></th>\n",
       "    </tr>\n",
       "  </thead>\n",
       "  <tbody>\n",
       "    <tr>\n",
       "      <th>11</th>\n",
       "      <td>3952.0</td>\n",
       "      <td>48.9083101579</td>\n",
       "      <td>2.48332622588</td>\n",
       "    </tr>\n",
       "    <tr>\n",
       "      <th>24</th>\n",
       "      <td>940.0</td>\n",
       "      <td>48.3904369966</td>\n",
       "      <td>1.36981669854</td>\n",
       "    </tr>\n",
       "    <tr>\n",
       "      <th>28</th>\n",
       "      <td>2428.0</td>\n",
       "      <td>49.1173587925</td>\n",
       "      <td>0.994646492411</td>\n",
       "    </tr>\n",
       "    <tr>\n",
       "      <th>32</th>\n",
       "      <td>0.0</td>\n",
       "      <td>49.5565688819</td>\n",
       "      <td>3.5620366046</td>\n",
       "    </tr>\n",
       "    <tr>\n",
       "      <th>44</th>\n",
       "      <td>878.0</td>\n",
       "      <td>48.1122966595</td>\n",
       "      <td>5.22903858107</td>\n",
       "    </tr>\n",
       "    <tr>\n",
       "      <th>52</th>\n",
       "      <td>2606.0</td>\n",
       "      <td>48.1463719594</td>\n",
       "      <td>-0.65589089497</td>\n",
       "    </tr>\n",
       "    <tr>\n",
       "      <th>75</th>\n",
       "      <td>693.0</td>\n",
       "      <td>45.1059247866</td>\n",
       "      <td>0.741353186486</td>\n",
       "    </tr>\n",
       "    <tr>\n",
       "      <th>76</th>\n",
       "      <td>5232.0</td>\n",
       "      <td>43.1040405728</td>\n",
       "      <td>2.41617917074</td>\n",
       "    </tr>\n",
       "    <tr>\n",
       "      <th>84</th>\n",
       "      <td>0.0</td>\n",
       "      <td>44.7532685394</td>\n",
       "      <td>4.42389358891</td>\n",
       "    </tr>\n",
       "    <tr>\n",
       "      <th>93</th>\n",
       "      <td>2699.0</td>\n",
       "      <td>43.93340912</td>\n",
       "      <td>7.11989042987</td>\n",
       "    </tr>\n",
       "  </tbody>\n",
       "</table>\n",
       "</div>"
      ],
      "text/plain": [
       "             urg_susp            lat             lon\n",
       "code_region                                         \n",
       "11             3952.0  48.9083101579   2.48332622588\n",
       "24              940.0  48.3904369966   1.36981669854\n",
       "28             2428.0  49.1173587925  0.994646492411\n",
       "32                0.0  49.5565688819    3.5620366046\n",
       "44              878.0  48.1122966595   5.22903858107\n",
       "52             2606.0  48.1463719594  -0.65589089497\n",
       "75              693.0  45.1059247866  0.741353186486\n",
       "76             5232.0  43.1040405728   2.41617917074\n",
       "84                0.0  44.7532685394   4.42389358891\n",
       "93             2699.0    43.93340912   7.11989042987"
      ]
     },
     "execution_count": 33,
     "metadata": {},
     "output_type": "execute_result"
    }
   ],
   "source": [
    "# Indicateur sur un jour dans les régions de France\n",
    "df_t.xs(jour).xs('all', level=1)[[col, 'lat','lon']]"
   ]
  },
  {
   "cell_type": "code",
   "execution_count": 34,
   "metadata": {
    "ExecuteTime": {
     "end_time": "2020-03-29T00:04:40.487792Z",
     "start_time": "2020-03-29T00:04:40.453463Z"
    }
   },
   "outputs": [
    {
     "data": {
      "text/plain": [
       "age\n",
       "15_44    1365.0\n",
       "45_64     833.0\n",
       "65_74     354.0\n",
       "74__      708.0\n",
       "__15      692.0\n",
       "all      3952.0\n",
       "Name: urg_susp, dtype: float64"
      ]
     },
     "execution_count": 34,
     "metadata": {},
     "output_type": "execute_result"
    }
   ],
   "source": [
    "# Repartioiton un jour par région d'un indicateur\n",
    "df_t.xs(jour).xs(region)[col]"
   ]
  },
  {
   "cell_type": "code",
   "execution_count": 42,
   "metadata": {
    "ExecuteTime": {
     "end_time": "2020-03-29T00:05:42.512556Z",
     "start_time": "2020-03-29T00:05:42.461793Z"
    }
   },
   "outputs": [
    {
     "data": {
      "text/plain": [
       "age\n",
       "__15      3306.0\n",
       "15_44     7131.0\n",
       "45_64     4330.0\n",
       "65_74     1747.0\n",
       "74__      2914.0\n",
       "all      19428.0\n",
       "Name: urg_susp, dtype: float64"
      ]
     },
     "execution_count": 42,
     "metadata": {},
     "output_type": "execute_result"
    }
   ],
   "source": [
    "# Répartition de l'age d'un indicateur en France\n",
    "tmp = df_t.xs(jour).groupby('age')[col].sum()\n",
    "tmp = tmp.loc[['__15', '15_44', '45_64', '65_74', '74__', 'all']]\n",
    "tmp"
   ]
  },
  {
   "cell_type": "code",
   "execution_count": 43,
   "metadata": {
    "ExecuteTime": {
     "end_time": "2020-03-29T00:05:43.323343Z",
     "start_time": "2020-03-29T00:05:43.263788Z"
    }
   },
   "outputs": [
    {
     "data": {
      "text/plain": [
       "['__15', '15_44', '45_64', '65_74', '74__', 'all']"
      ]
     },
     "execution_count": 43,
     "metadata": {},
     "output_type": "execute_result"
    }
   ],
   "source": [
    "ages = tmp.index.tolist()\n",
    "ages"
   ]
  },
  {
   "cell_type": "code",
   "execution_count": 44,
   "metadata": {
    "ExecuteTime": {
     "end_time": "2020-03-29T00:05:44.071012Z",
     "start_time": "2020-03-29T00:05:44.000340Z"
    }
   },
   "outputs": [
    {
     "data": {
      "text/plain": [
       "['< 15ans', '15-44 ans', '45-64 ans', '65-74 ans', '> 74 ans', 'tous âges']"
      ]
     },
     "execution_count": 44,
     "metadata": {},
     "output_type": "execute_result"
    }
   ],
   "source": [
    "labels = [age_rev[age] for age in ages]\n",
    "labels"
   ]
  },
  {
   "cell_type": "code",
   "execution_count": 46,
   "metadata": {
    "ExecuteTime": {
     "end_time": "2020-03-29T00:06:09.272807Z",
     "start_time": "2020-03-29T00:06:09.226021Z"
    }
   },
   "outputs": [
    {
     "data": {
      "text/html": [
       "<div>\n",
       "<style scoped>\n",
       "    .dataframe tbody tr th:only-of-type {\n",
       "        vertical-align: middle;\n",
       "    }\n",
       "\n",
       "    .dataframe tbody tr th {\n",
       "        vertical-align: top;\n",
       "    }\n",
       "\n",
       "    .dataframe thead th {\n",
       "        text-align: right;\n",
       "    }\n",
       "</style>\n",
       "<table border=\"1\" class=\"dataframe\">\n",
       "  <thead>\n",
       "    <tr style=\"text-align: right;\">\n",
       "      <th></th>\n",
       "      <th>urg_tot</th>\n",
       "      <th>urg_susp</th>\n",
       "      <th>urg_hosp</th>\n",
       "    </tr>\n",
       "    <tr>\n",
       "      <th>date</th>\n",
       "      <th></th>\n",
       "      <th></th>\n",
       "      <th></th>\n",
       "    </tr>\n",
       "  </thead>\n",
       "  <tbody>\n",
       "    <tr>\n",
       "      <th>2020-02-24</th>\n",
       "      <td>1.0</td>\n",
       "      <td>23165.0</td>\n",
       "      <td>0.0</td>\n",
       "    </tr>\n",
       "    <tr>\n",
       "      <th>2020-02-25</th>\n",
       "      <td>1.0</td>\n",
       "      <td>20876.0</td>\n",
       "      <td>0.0</td>\n",
       "    </tr>\n",
       "    <tr>\n",
       "      <th>2020-02-26</th>\n",
       "      <td>0.0</td>\n",
       "      <td>20533.0</td>\n",
       "      <td>0.0</td>\n",
       "    </tr>\n",
       "    <tr>\n",
       "      <th>2020-02-27</th>\n",
       "      <td>7.0</td>\n",
       "      <td>20585.0</td>\n",
       "      <td>0.0</td>\n",
       "    </tr>\n",
       "    <tr>\n",
       "      <th>2020-02-28</th>\n",
       "      <td>12.0</td>\n",
       "      <td>20643.0</td>\n",
       "      <td>3.0</td>\n",
       "    </tr>\n",
       "  </tbody>\n",
       "</table>\n",
       "</div>"
      ],
      "text/plain": [
       "            urg_tot  urg_susp  urg_hosp\n",
       "date                                   \n",
       "2020-02-24      1.0   23165.0       0.0\n",
       "2020-02-25      1.0   20876.0       0.0\n",
       "2020-02-26      0.0   20533.0       0.0\n",
       "2020-02-27      7.0   20585.0       0.0\n",
       "2020-02-28     12.0   20643.0       3.0"
      ]
     },
     "execution_count": 46,
     "metadata": {},
     "output_type": "execute_result"
    }
   ],
   "source": [
    "# Times Seires en France pour les indicateurs des urgences\n",
    "tmp = df_f.xs('all', level=2).groupby('date').sum()\n",
    "urg_col = ['urg_tot', 'urg_susp', 'urg_hosp']\n",
    "urg = tmp[urg_col]\n",
    "urg.head()"
   ]
  },
  {
   "cell_type": "code",
   "execution_count": null,
   "metadata": {},
   "outputs": [],
   "source": []
  }
 ],
 "metadata": {
  "file_extension": ".py",
  "kernelspec": {
   "display_name": "sales",
   "language": "python",
   "name": "sales"
  },
  "language_info": {
   "codemirror_mode": {
    "name": "ipython",
    "version": 3
   },
   "file_extension": ".py",
   "mimetype": "text/x-python",
   "name": "python",
   "nbconvert_exporter": "python",
   "pygments_lexer": "ipython3",
   "version": "3.7.3"
  },
  "mimetype": "text/x-python",
  "name": "python",
  "npconvert_exporter": "python",
  "pygments_lexer": "ipython3",
  "toc": {
   "base_numbering": 1,
   "nav_menu": {},
   "number_sections": true,
   "sideBar": true,
   "skip_h1_title": false,
   "title_cell": "Table of Contents",
   "title_sidebar": "Contents",
   "toc_cell": false,
   "toc_position": {},
   "toc_section_display": true,
   "toc_window_display": false
  },
  "varInspector": {
   "cols": {
    "lenName": 16,
    "lenType": 16,
    "lenVar": 40
   },
   "kernels_config": {
    "python": {
     "delete_cmd_postfix": "",
     "delete_cmd_prefix": "del ",
     "library": "var_list.py",
     "varRefreshCmd": "print(var_dic_list())"
    },
    "r": {
     "delete_cmd_postfix": ") ",
     "delete_cmd_prefix": "rm(",
     "library": "var_list.r",
     "varRefreshCmd": "cat(var_dic_list()) "
    }
   },
   "types_to_exclude": [
    "module",
    "function",
    "builtin_function_or_method",
    "instance",
    "_Feature"
   ],
   "window_display": false
  },
  "version": 3
 },
 "nbformat": 4,
 "nbformat_minor": 4
}
