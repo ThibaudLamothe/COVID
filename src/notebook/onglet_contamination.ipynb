{
 "cells": [
  {
   "cell_type": "code",
   "execution_count": 49,
   "metadata": {
    "ExecuteTime": {
     "end_time": "2020-03-29T19:47:04.668108Z",
     "start_time": "2020-03-29T19:47:04.631559Z"
    }
   },
   "outputs": [],
   "source": [
    "import numpy as np\n",
    "import pandas as pd\n",
    "import matplotlib.pyplot as plt\n",
    "\n",
    "import sys\n",
    "sys.path.append('../scripts/')\n",
    "import utils_covid as f\n",
    "\n",
    "import plotly.express as px\n",
    "from plotly import graph_objs as go\n"
   ]
  },
  {
   "cell_type": "code",
   "execution_count": 23,
   "metadata": {
    "ExecuteTime": {
     "end_time": "2020-03-29T18:21:52.239986Z",
     "start_time": "2020-03-29T18:21:52.195040Z"
    }
   },
   "outputs": [
    {
     "name": "stdout",
     "output_type": "stream",
     "text": [
      "The autoreload extension is already loaded. To reload it, use:\n",
      "  %reload_ext autoreload\n"
     ]
    }
   ],
   "source": [
    "%load_ext autoreload\n",
    "%autoreload 2\n",
    "\n",
    "%aimport utils_covid"
   ]
  },
  {
   "cell_type": "code",
   "execution_count": 24,
   "metadata": {
    "ExecuteTime": {
     "end_time": "2020-03-29T18:21:52.593959Z",
     "start_time": "2020-03-29T18:21:52.561756Z"
    }
   },
   "outputs": [],
   "source": [
    "pd.set_option('display.max_columns', 500)"
   ]
  },
  {
   "cell_type": "markdown",
   "metadata": {},
   "source": [
    "__Information__\n",
    "\n",
    "Dans ce notebook sont créés divers pickle à l'usage de l'onglet de contamination:\n",
    "- `region_info_by_id.p` : à partir d'un id de nouvelle région, retrouver son nom, lattitude, longitude\n",
    "- `radiobox_region.p` : crée le contenu des radioBox région. Label=Nom, Value=Code\n",
    "- `df_contamination_fr.p`: dataset avec informations de contamination en France : par date et par région"
   ]
  },
  {
   "cell_type": "markdown",
   "metadata": {},
   "source": [
    "# Loading"
   ]
  },
  {
   "cell_type": "markdown",
   "metadata": {},
   "source": [
    "__df_h__"
   ]
  },
  {
   "cell_type": "code",
   "execution_count": 27,
   "metadata": {
    "ExecuteTime": {
     "end_time": "2020-03-29T18:21:58.903780Z",
     "start_time": "2020-03-29T18:21:58.860025Z"
    }
   },
   "outputs": [
    {
     "data": {
      "text/html": [
       "<div>\n",
       "<style scoped>\n",
       "    .dataframe tbody tr th:only-of-type {\n",
       "        vertical-align: middle;\n",
       "    }\n",
       "\n",
       "    .dataframe tbody tr th {\n",
       "        vertical-align: top;\n",
       "    }\n",
       "\n",
       "    .dataframe thead th {\n",
       "        text-align: right;\n",
       "    }\n",
       "</style>\n",
       "<table border=\"1\" class=\"dataframe\">\n",
       "  <thead>\n",
       "    <tr style=\"text-align: right;\">\n",
       "      <th></th>\n",
       "      <th>Code du Département</th>\n",
       "      <th>Date</th>\n",
       "      <th>Nb actuellement hospitalisés</th>\n",
       "      <th>Nb actuellement en soins intensifs</th>\n",
       "      <th>Total retour à domicile</th>\n",
       "      <th>Total Décès</th>\n",
       "      <th>Code région</th>\n",
       "      <th>Code ISO 3166 de la zone</th>\n",
       "      <th>Nom région</th>\n",
       "      <th>Nom Département</th>\n",
       "      <th>Sexe</th>\n",
       "      <th>Geo Point</th>\n",
       "    </tr>\n",
       "  </thead>\n",
       "  <tbody>\n",
       "    <tr>\n",
       "      <th>2217</th>\n",
       "      <td>42</td>\n",
       "      <td>2020-03-28</td>\n",
       "      <td>118</td>\n",
       "      <td>13</td>\n",
       "      <td>19</td>\n",
       "      <td>9</td>\n",
       "      <td>84</td>\n",
       "      <td>FRA</td>\n",
       "      <td>Auvergne-Rhône-Alpes</td>\n",
       "      <td>Loire</td>\n",
       "      <td>Femme</td>\n",
       "      <td>45.727718684,4.16117137934</td>\n",
       "    </tr>\n",
       "    <tr>\n",
       "      <th>2218</th>\n",
       "      <td>44</td>\n",
       "      <td>2020-03-28</td>\n",
       "      <td>84</td>\n",
       "      <td>29</td>\n",
       "      <td>24</td>\n",
       "      <td>12</td>\n",
       "      <td>52</td>\n",
       "      <td>FRA</td>\n",
       "      <td>Pays de la Loire</td>\n",
       "      <td>Loire-Atlantique</td>\n",
       "      <td>Homme</td>\n",
       "      <td>47.3612553393,-1.6750424562</td>\n",
       "    </tr>\n",
       "    <tr>\n",
       "      <th>2219</th>\n",
       "      <td>48</td>\n",
       "      <td>2020-03-28</td>\n",
       "      <td>4</td>\n",
       "      <td>2</td>\n",
       "      <td>3</td>\n",
       "      <td>0</td>\n",
       "      <td>76</td>\n",
       "      <td>FRA</td>\n",
       "      <td>Occitanie</td>\n",
       "      <td>Lozère</td>\n",
       "      <td>Homme</td>\n",
       "      <td>44.5155815066,3.49993932838</td>\n",
       "    </tr>\n",
       "    <tr>\n",
       "      <th>2220</th>\n",
       "      <td>64</td>\n",
       "      <td>2020-03-28</td>\n",
       "      <td>30</td>\n",
       "      <td>7</td>\n",
       "      <td>16</td>\n",
       "      <td>2</td>\n",
       "      <td>75</td>\n",
       "      <td>FRA</td>\n",
       "      <td>Nouvelle-Aquitaine</td>\n",
       "      <td>Pyrénées-Atlantiques</td>\n",
       "      <td>Homme</td>\n",
       "      <td>43.2555265161,-0.759231599387</td>\n",
       "    </tr>\n",
       "    <tr>\n",
       "      <th>2221</th>\n",
       "      <td>81</td>\n",
       "      <td>2020-03-28</td>\n",
       "      <td>14</td>\n",
       "      <td>7</td>\n",
       "      <td>5</td>\n",
       "      <td>1</td>\n",
       "      <td>76</td>\n",
       "      <td>FRA</td>\n",
       "      <td>Occitanie</td>\n",
       "      <td>Tarn</td>\n",
       "      <td>Homme</td>\n",
       "      <td>43.7873656836,2.1627880067</td>\n",
       "    </tr>\n",
       "  </tbody>\n",
       "</table>\n",
       "</div>"
      ],
      "text/plain": [
       "     Code du Département        Date  Nb actuellement hospitalisés  \\\n",
       "2217                  42  2020-03-28                           118   \n",
       "2218                  44  2020-03-28                            84   \n",
       "2219                  48  2020-03-28                             4   \n",
       "2220                  64  2020-03-28                            30   \n",
       "2221                  81  2020-03-28                            14   \n",
       "\n",
       "      Nb actuellement en soins intensifs  Total retour à domicile  \\\n",
       "2217                                  13                       19   \n",
       "2218                                  29                       24   \n",
       "2219                                   2                        3   \n",
       "2220                                   7                       16   \n",
       "2221                                   7                        5   \n",
       "\n",
       "      Total Décès  Code région Code ISO 3166 de la zone            Nom région  \\\n",
       "2217            9           84                      FRA  Auvergne-Rhône-Alpes   \n",
       "2218           12           52                      FRA      Pays de la Loire   \n",
       "2219            0           76                      FRA             Occitanie   \n",
       "2220            2           75                      FRA    Nouvelle-Aquitaine   \n",
       "2221            1           76                      FRA             Occitanie   \n",
       "\n",
       "           Nom Département   Sexe                      Geo Point  \n",
       "2217                 Loire  Femme     45.727718684,4.16117137934  \n",
       "2218      Loire-Atlantique  Homme    47.3612553393,-1.6750424562  \n",
       "2219                Lozère  Homme    44.5155815066,3.49993932838  \n",
       "2220  Pyrénées-Atlantiques  Homme  43.2555265161,-0.759231599387  \n",
       "2221                  Tarn  Homme     43.7873656836,2.1627880067  "
      ]
     },
     "execution_count": 27,
     "metadata": {},
     "output_type": "execute_result"
    }
   ],
   "source": [
    "path = f.OPENDATA_PATH + 'donnees-hospitalieres-covid-19-dep-france.csv'\n",
    "df_h = pd.read_csv(path, sep=';')\n",
    "df_h.tail()"
   ]
  },
  {
   "cell_type": "code",
   "execution_count": 28,
   "metadata": {
    "ExecuteTime": {
     "end_time": "2020-03-29T18:22:02.057873Z",
     "start_time": "2020-03-29T18:22:01.956033Z"
    }
   },
   "outputs": [
    {
     "data": {
      "text/plain": [
       "{'region': 'Île-de-France', 'lat': 48.6281210472, 'lon': 2.93531969909}"
      ]
     },
     "execution_count": 28,
     "metadata": {},
     "output_type": "execute_result"
    }
   ],
   "source": [
    "# Création de l'information par région\n",
    "tmp_region = df_h[['Code région', 'Geo Point', 'Nom région']].drop_duplicates()\n",
    "tmp_region['lat'] = tmp_region['Geo Point'].apply(lambda x: x.split(',')[0]).apply(float)\n",
    "tmp_region['lon'] = tmp_region['Geo Point'].apply(lambda x: x.split(',')[1]).apply(float)\n",
    "tmp_region = tmp_region.rename(columns={'Code région':'code_region', 'Nom région':'region'}).drop(['Geo Point'], axis=1)\n",
    "region_info = tmp_region.drop_duplicates('code_region').set_index('code_region').to_dict(orient='index')\n",
    "f.save_pickle(region_info, 'region_info_by_id.p')\n",
    "\n",
    "# Example\n",
    "code_region =11 # Ile de France\n",
    "region_info[code_region]"
   ]
  },
  {
   "cell_type": "code",
   "execution_count": 29,
   "metadata": {
    "ExecuteTime": {
     "end_time": "2020-03-29T18:22:02.368909Z",
     "start_time": "2020-03-29T18:22:02.330882Z"
    }
   },
   "outputs": [
    {
     "data": {
      "text/plain": [
       "[{'label': 'Auvergne-Rhône-Alpes', 'value': 84},\n",
       " {'label': 'Bourgogne-Franche-Comté', 'value': 27},\n",
       " {'label': 'Bretagne', 'value': 53},\n",
       " {'label': 'Centre-Val de Loire', 'value': 24},\n",
       " {'label': 'Corse', 'value': 94},\n",
       " {'label': 'Grand Est', 'value': 44},\n",
       " {'label': 'Hauts-de-France', 'value': 32},\n",
       " {'label': 'Ile-de-France', 'value': 11},\n",
       " {'label': 'Normandie', 'value': 28},\n",
       " {'label': 'Nouvelle-Aquitaine', 'value': 75},\n",
       " {'label': 'Occitanie', 'value': 76},\n",
       " {'label': 'Pays de la Loire', 'value': 52},\n",
       " {'label': \"Provence-Alpes-Côte d'Azur\", 'value': 93}]"
      ]
     },
     "execution_count": 29,
     "metadata": {},
     "output_type": "execute_result"
    }
   ],
   "source": [
    "# Création de radiobox avec les régions\n",
    "if 11 in tmp_region.code_region.unique():\n",
    "    tmp_region.loc[tmp_region.code_region==11, 'region']='Ile-de-France'\n",
    "options_region = tmp_region.set_index('code_region')['region'].sort_values().to_dict()\n",
    "options_region = [{'label': value, 'value': key} for key, value in options_region.items() if int(key) > 10]\n",
    "f.save_pickle(options_region, 'radiobox_region.p')\n",
    "options_region"
   ]
  },
  {
   "cell_type": "code",
   "execution_count": 30,
   "metadata": {
    "ExecuteTime": {
     "end_time": "2020-03-29T18:22:04.123205Z",
     "start_time": "2020-03-29T18:22:04.092634Z"
    }
   },
   "outputs": [
    {
     "name": "stdout",
     "output_type": "stream",
     "text": [
      "{'06': 93, '15': 84, '51': 44, '66': 76, '76': 28, '972': 2, '37': 24, '47': 75, '74': 84, '976': 6, '23': 75, '30': 76, '55': 44, '57': 44, '58': 27, '67': 44, '77': 11, '90': 27, '04': 93, '08': 44, '33': 75, '35': 53, '44': 52, '53': 52, '64': 75, '80': 32, '85': 52, '13': 93, '16': 75, '81': 76, '94': 11, '95': 11, '24': 75, '83': 93, '38': 84, '43': 84, '82': 76, '84': 93, '42': 84, '68': 44, '11': 76, '29': 53, '2A': 94, '31': 76, '71': 27, '36': 24, '01': 84, '02': 32, '27': 28, '46': 76, '52': 44, '73': 84, '89': 27, '12': 76, '14': 28, '21': 27, '32': 76, '45': 24, '69': 84, '93': 11, '41': 24, '65': 76, '87': 75, '974': 4, '88': 44, '25': 27, '39': 27, '92': 11, '971': 1, '19': 75, '34': 76, '50': 28, '61': 28, '91': 11, '59': 32, '75': 11, '973': 3, '09': 76, '86': 75, '07': 84, '05': 93, '40': 75, '22': 53, '56': 53, '03': 84, '26': 84, '49': 52, '60': 32, '28': 24, '54': 44, '70': 27, '18': 24, '62': 32, '48': 76, '10': 44, '2B': 94, '78': 11, '72': 52, '63': 84, '17': 75, '79': 75}\n"
     ]
    }
   ],
   "source": [
    "dep_2_reg = df_h[['Code du Département', 'Code région']].drop_duplicates().set_index('Code du Département')['Code région'].to_dict()\n",
    "f.save_pickle(dep_2_reg, 'dep_2_reg.p')\n",
    "print(dep_2_reg)"
   ]
  },
  {
   "cell_type": "code",
   "execution_count": 31,
   "metadata": {
    "ExecuteTime": {
     "end_time": "2020-03-29T18:22:06.724829Z",
     "start_time": "2020-03-29T18:22:06.687909Z"
    }
   },
   "outputs": [],
   "source": [
    "df_h = df_h.rename(columns={'Date':'date', 'Code région':'code_region', 'Sexe':'sexe'})"
   ]
  },
  {
   "cell_type": "code",
   "execution_count": 32,
   "metadata": {
    "ExecuteTime": {
     "end_time": "2020-03-29T18:22:14.662434Z",
     "start_time": "2020-03-29T18:22:14.626031Z"
    }
   },
   "outputs": [
    {
     "data": {
      "text/html": [
       "<div>\n",
       "<style scoped>\n",
       "    .dataframe tbody tr th:only-of-type {\n",
       "        vertical-align: middle;\n",
       "    }\n",
       "\n",
       "    .dataframe tbody tr th {\n",
       "        vertical-align: top;\n",
       "    }\n",
       "\n",
       "    .dataframe thead th {\n",
       "        text-align: right;\n",
       "    }\n",
       "</style>\n",
       "<table border=\"1\" class=\"dataframe\">\n",
       "  <thead>\n",
       "    <tr style=\"text-align: right;\">\n",
       "      <th></th>\n",
       "      <th></th>\n",
       "      <th></th>\n",
       "      <th>Nb actuellement hospitalisés</th>\n",
       "      <th>Nb actuellement en soins intensifs</th>\n",
       "      <th>Total retour à domicile</th>\n",
       "      <th>Total Décès</th>\n",
       "    </tr>\n",
       "    <tr>\n",
       "      <th>date</th>\n",
       "      <th>code_region</th>\n",
       "      <th>sexe</th>\n",
       "      <th></th>\n",
       "      <th></th>\n",
       "      <th></th>\n",
       "      <th></th>\n",
       "    </tr>\n",
       "  </thead>\n",
       "  <tbody>\n",
       "    <tr>\n",
       "      <th rowspan=\"5\" valign=\"top\">2020-03-28</th>\n",
       "      <th>84</th>\n",
       "      <th>Homme</th>\n",
       "      <td>1091</td>\n",
       "      <td>324</td>\n",
       "      <td>331</td>\n",
       "      <td>106</td>\n",
       "    </tr>\n",
       "    <tr>\n",
       "      <th rowspan=\"2\" valign=\"top\">93</th>\n",
       "      <th>Femme</th>\n",
       "      <td>384</td>\n",
       "      <td>61</td>\n",
       "      <td>349</td>\n",
       "      <td>29</td>\n",
       "    </tr>\n",
       "    <tr>\n",
       "      <th>Homme</th>\n",
       "      <td>519</td>\n",
       "      <td>146</td>\n",
       "      <td>324</td>\n",
       "      <td>26</td>\n",
       "    </tr>\n",
       "    <tr>\n",
       "      <th rowspan=\"2\" valign=\"top\">94</th>\n",
       "      <th>Femme</th>\n",
       "      <td>56</td>\n",
       "      <td>6</td>\n",
       "      <td>35</td>\n",
       "      <td>8</td>\n",
       "    </tr>\n",
       "    <tr>\n",
       "      <th>Homme</th>\n",
       "      <td>52</td>\n",
       "      <td>12</td>\n",
       "      <td>36</td>\n",
       "      <td>11</td>\n",
       "    </tr>\n",
       "  </tbody>\n",
       "</table>\n",
       "</div>"
      ],
      "text/plain": [
       "                              Nb actuellement hospitalisés  \\\n",
       "date       code_region sexe                                  \n",
       "2020-03-28 84          Homme                          1091   \n",
       "           93          Femme                           384   \n",
       "                       Homme                           519   \n",
       "           94          Femme                            56   \n",
       "                       Homme                            52   \n",
       "\n",
       "                              Nb actuellement en soins intensifs  \\\n",
       "date       code_region sexe                                        \n",
       "2020-03-28 84          Homme                                 324   \n",
       "           93          Femme                                  61   \n",
       "                       Homme                                 146   \n",
       "           94          Femme                                   6   \n",
       "                       Homme                                  12   \n",
       "\n",
       "                              Total retour à domicile  Total Décès  \n",
       "date       code_region sexe                                         \n",
       "2020-03-28 84          Homme                      331          106  \n",
       "           93          Femme                      349           29  \n",
       "                       Homme                      324           26  \n",
       "           94          Femme                       35            8  \n",
       "                       Homme                       36           11  "
      ]
     },
     "execution_count": 32,
     "metadata": {},
     "output_type": "execute_result"
    }
   ],
   "source": [
    "df_h_sex = df_h.groupby(['date', 'code_region', 'sexe']).sum()\n",
    "df_h_sex.tail()"
   ]
  },
  {
   "cell_type": "code",
   "execution_count": 33,
   "metadata": {
    "ExecuteTime": {
     "end_time": "2020-03-29T18:22:19.737486Z",
     "start_time": "2020-03-29T18:22:19.698984Z"
    }
   },
   "outputs": [
    {
     "data": {
      "text/html": [
       "<div>\n",
       "<style scoped>\n",
       "    .dataframe tbody tr th:only-of-type {\n",
       "        vertical-align: middle;\n",
       "    }\n",
       "\n",
       "    .dataframe tbody tr th {\n",
       "        vertical-align: top;\n",
       "    }\n",
       "\n",
       "    .dataframe thead th {\n",
       "        text-align: right;\n",
       "    }\n",
       "</style>\n",
       "<table border=\"1\" class=\"dataframe\">\n",
       "  <thead>\n",
       "    <tr style=\"text-align: right;\">\n",
       "      <th></th>\n",
       "      <th></th>\n",
       "      <th>Nb actuellement hospitalisés</th>\n",
       "      <th>Nb actuellement en soins intensifs</th>\n",
       "      <th>Total retour à domicile</th>\n",
       "      <th>Total Décès</th>\n",
       "    </tr>\n",
       "    <tr>\n",
       "      <th>date</th>\n",
       "      <th>code_region</th>\n",
       "      <th></th>\n",
       "      <th></th>\n",
       "      <th></th>\n",
       "      <th></th>\n",
       "    </tr>\n",
       "  </thead>\n",
       "  <tbody>\n",
       "    <tr>\n",
       "      <th rowspan=\"5\" valign=\"top\">2020-03-28</th>\n",
       "      <th>75</th>\n",
       "      <td>487</td>\n",
       "      <td>126</td>\n",
       "      <td>210</td>\n",
       "      <td>50</td>\n",
       "    </tr>\n",
       "    <tr>\n",
       "      <th>76</th>\n",
       "      <td>705</td>\n",
       "      <td>212</td>\n",
       "      <td>300</td>\n",
       "      <td>68</td>\n",
       "    </tr>\n",
       "    <tr>\n",
       "      <th>84</th>\n",
       "      <td>1872</td>\n",
       "      <td>421</td>\n",
       "      <td>664</td>\n",
       "      <td>187</td>\n",
       "    </tr>\n",
       "    <tr>\n",
       "      <th>93</th>\n",
       "      <td>903</td>\n",
       "      <td>207</td>\n",
       "      <td>673</td>\n",
       "      <td>55</td>\n",
       "    </tr>\n",
       "    <tr>\n",
       "      <th>94</th>\n",
       "      <td>108</td>\n",
       "      <td>18</td>\n",
       "      <td>71</td>\n",
       "      <td>19</td>\n",
       "    </tr>\n",
       "  </tbody>\n",
       "</table>\n",
       "</div>"
      ],
      "text/plain": [
       "                        Nb actuellement hospitalisés  \\\n",
       "date       code_region                                 \n",
       "2020-03-28 75                                    487   \n",
       "           76                                    705   \n",
       "           84                                   1872   \n",
       "           93                                    903   \n",
       "           94                                    108   \n",
       "\n",
       "                        Nb actuellement en soins intensifs  \\\n",
       "date       code_region                                       \n",
       "2020-03-28 75                                          126   \n",
       "           76                                          212   \n",
       "           84                                          421   \n",
       "           93                                          207   \n",
       "           94                                           18   \n",
       "\n",
       "                        Total retour à domicile  Total Décès  \n",
       "date       code_region                                        \n",
       "2020-03-28 75                               210           50  \n",
       "           76                               300           68  \n",
       "           84                               664          187  \n",
       "           93                               673           55  \n",
       "           94                                71           19  "
      ]
     },
     "execution_count": 33,
     "metadata": {},
     "output_type": "execute_result"
    }
   ],
   "source": [
    "df_h = df_h.groupby(['date', 'code_region']).sum()\n",
    "df_h.tail()"
   ]
  },
  {
   "cell_type": "markdown",
   "metadata": {},
   "source": [
    "__df__"
   ]
  },
  {
   "cell_type": "code",
   "execution_count": 48,
   "metadata": {
    "ExecuteTime": {
     "end_time": "2020-03-29T19:22:54.906699Z",
     "start_time": "2020-03-29T19:22:54.880795Z"
    }
   },
   "outputs": [],
   "source": [
    "#df = pd.read_csv('/Users/thibaud/Downloads/chiffres-cles.csv')\n",
    "#df[df['granularite']=='departement'].groupby(['date', 'maille_code']).sum().loc['2020-03-28']"
   ]
  },
  {
   "cell_type": "code",
   "execution_count": 36,
   "metadata": {
    "ExecuteTime": {
     "end_time": "2020-03-29T19:07:31.035090Z",
     "start_time": "2020-03-29T19:07:30.995972Z"
    }
   },
   "outputs": [
    {
     "data": {
      "text/html": [
       "<div>\n",
       "<style scoped>\n",
       "    .dataframe tbody tr th:only-of-type {\n",
       "        vertical-align: middle;\n",
       "    }\n",
       "\n",
       "    .dataframe tbody tr th {\n",
       "        vertical-align: top;\n",
       "    }\n",
       "\n",
       "    .dataframe thead th {\n",
       "        text-align: right;\n",
       "    }\n",
       "</style>\n",
       "<table border=\"1\" class=\"dataframe\">\n",
       "  <thead>\n",
       "    <tr style=\"text-align: right;\">\n",
       "      <th></th>\n",
       "      <th>Code ISO 3166</th>\n",
       "      <th>Type de zone</th>\n",
       "      <th>Code officiel</th>\n",
       "      <th>Nom officiel</th>\n",
       "      <th>Date</th>\n",
       "      <th>Nombre de cas confirmés</th>\n",
       "      <th>Centroide</th>\n",
       "      <th>Source</th>\n",
       "      <th>URL</th>\n",
       "    </tr>\n",
       "  </thead>\n",
       "  <tbody>\n",
       "    <tr>\n",
       "      <th>395</th>\n",
       "      <td>FRA</td>\n",
       "      <td>REG</td>\n",
       "      <td>84</td>\n",
       "      <td>Auvergne-Rhône-Alpes</td>\n",
       "      <td>2020-03-22</td>\n",
       "      <td>1431</td>\n",
       "      <td>45.5156201847,4.53513455451</td>\n",
       "      <td>Sante publique France</td>\n",
       "      <td>https://www.santepubliquefrance.fr/maladies-et...</td>\n",
       "    </tr>\n",
       "    <tr>\n",
       "      <th>396</th>\n",
       "      <td>FRA</td>\n",
       "      <td>REG</td>\n",
       "      <td>24</td>\n",
       "      <td>Centre-Val de Loire</td>\n",
       "      <td>2020-03-22</td>\n",
       "      <td>291</td>\n",
       "      <td>47.4875464351,1.68135599697</td>\n",
       "      <td>Sante publique France</td>\n",
       "      <td>https://www.santepubliquefrance.fr/maladies-et...</td>\n",
       "    </tr>\n",
       "    <tr>\n",
       "      <th>397</th>\n",
       "      <td>GLP</td>\n",
       "      <td>REG</td>\n",
       "      <td>1</td>\n",
       "      <td>Guadeloupe</td>\n",
       "      <td>2020-03-22</td>\n",
       "      <td>58</td>\n",
       "      <td>16.2122165031,-61.5384397436</td>\n",
       "      <td>Sante publique France</td>\n",
       "      <td>https://www.santepubliquefrance.fr/maladies-et...</td>\n",
       "    </tr>\n",
       "    <tr>\n",
       "      <th>398</th>\n",
       "      <td>FRA</td>\n",
       "      <td>REG</td>\n",
       "      <td>76</td>\n",
       "      <td>Occitanie</td>\n",
       "      <td>2020-03-25</td>\n",
       "      <td>1082</td>\n",
       "      <td>43.7001098498,2.14148603272</td>\n",
       "      <td>Sante publique France</td>\n",
       "      <td>https://www.santepubliquefrance.fr/maladies-et...</td>\n",
       "    </tr>\n",
       "    <tr>\n",
       "      <th>399</th>\n",
       "      <td>GUF</td>\n",
       "      <td>REG</td>\n",
       "      <td>3</td>\n",
       "      <td>Guyane</td>\n",
       "      <td>2020-03-25</td>\n",
       "      <td>28</td>\n",
       "      <td>3.92086784911,-53.2332985406</td>\n",
       "      <td>Sante publique France</td>\n",
       "      <td>https://www.santepubliquefrance.fr/maladies-et...</td>\n",
       "    </tr>\n",
       "  </tbody>\n",
       "</table>\n",
       "</div>"
      ],
      "text/plain": [
       "    Code ISO 3166 Type de zone  Code officiel          Nom officiel  \\\n",
       "395           FRA          REG             84  Auvergne-Rhône-Alpes   \n",
       "396           FRA          REG             24   Centre-Val de Loire   \n",
       "397           GLP          REG              1            Guadeloupe   \n",
       "398           FRA          REG             76             Occitanie   \n",
       "399           GUF          REG              3                Guyane   \n",
       "\n",
       "           Date  Nombre de cas confirmés                     Centroide  \\\n",
       "395  2020-03-22                     1431   45.5156201847,4.53513455451   \n",
       "396  2020-03-22                      291   47.4875464351,1.68135599697   \n",
       "397  2020-03-22                       58  16.2122165031,-61.5384397436   \n",
       "398  2020-03-25                     1082   43.7001098498,2.14148603272   \n",
       "399  2020-03-25                       28  3.92086784911,-53.2332985406   \n",
       "\n",
       "                    Source                                                URL  \n",
       "395  Sante publique France  https://www.santepubliquefrance.fr/maladies-et...  \n",
       "396  Sante publique France  https://www.santepubliquefrance.fr/maladies-et...  \n",
       "397  Sante publique France  https://www.santepubliquefrance.fr/maladies-et...  \n",
       "398  Sante publique France  https://www.santepubliquefrance.fr/maladies-et...  \n",
       "399  Sante publique France  https://www.santepubliquefrance.fr/maladies-et...  "
      ]
     },
     "execution_count": 36,
     "metadata": {},
     "output_type": "execute_result"
    }
   ],
   "source": [
    "path = f.OPENDATA_PATH + 'evolution-de-la-pandemie-de-covid-19-en-france.csv'\n",
    "df = pd.read_csv(path, sep=';')\n",
    "df.tail()"
   ]
  },
  {
   "cell_type": "code",
   "execution_count": 37,
   "metadata": {
    "ExecuteTime": {
     "end_time": "2020-03-29T19:07:31.542167Z",
     "start_time": "2020-03-29T19:07:31.514650Z"
    }
   },
   "outputs": [
    {
     "data": {
      "text/plain": [
       "'2020-03-25'"
      ]
     },
     "execution_count": 37,
     "metadata": {},
     "output_type": "execute_result"
    }
   ],
   "source": [
    "df['Date'].max()"
   ]
  },
  {
   "cell_type": "code",
   "execution_count": 38,
   "metadata": {
    "ExecuteTime": {
     "end_time": "2020-03-29T19:07:35.016310Z",
     "start_time": "2020-03-29T19:07:34.979213Z"
    }
   },
   "outputs": [
    {
     "data": {
      "text/html": [
       "<div>\n",
       "<style scoped>\n",
       "    .dataframe tbody tr th:only-of-type {\n",
       "        vertical-align: middle;\n",
       "    }\n",
       "\n",
       "    .dataframe tbody tr th {\n",
       "        vertical-align: top;\n",
       "    }\n",
       "\n",
       "    .dataframe thead th {\n",
       "        text-align: right;\n",
       "    }\n",
       "</style>\n",
       "<table border=\"1\" class=\"dataframe\">\n",
       "  <thead>\n",
       "    <tr style=\"text-align: right;\">\n",
       "      <th></th>\n",
       "      <th></th>\n",
       "      <th>Nombre de cas confirmés</th>\n",
       "    </tr>\n",
       "    <tr>\n",
       "      <th>date</th>\n",
       "      <th>code_region</th>\n",
       "      <th></th>\n",
       "    </tr>\n",
       "  </thead>\n",
       "  <tbody>\n",
       "    <tr>\n",
       "      <th rowspan=\"5\" valign=\"top\">2020-03-04</th>\n",
       "      <th>1</th>\n",
       "      <td>3</td>\n",
       "    </tr>\n",
       "    <tr>\n",
       "      <th>2</th>\n",
       "      <td>0</td>\n",
       "    </tr>\n",
       "    <tr>\n",
       "      <th>3</th>\n",
       "      <td>0</td>\n",
       "    </tr>\n",
       "    <tr>\n",
       "      <th>4</th>\n",
       "      <td>0</td>\n",
       "    </tr>\n",
       "    <tr>\n",
       "      <th>6</th>\n",
       "      <td>0</td>\n",
       "    </tr>\n",
       "  </tbody>\n",
       "</table>\n",
       "</div>"
      ],
      "text/plain": [
       "                        Nombre de cas confirmés\n",
       "date       code_region                         \n",
       "2020-03-04 1                                  3\n",
       "           2                                  0\n",
       "           3                                  0\n",
       "           4                                  0\n",
       "           6                                  0"
      ]
     },
     "execution_count": 38,
     "metadata": {},
     "output_type": "execute_result"
    }
   ],
   "source": [
    "df = df.rename(columns={'Date':'date', 'Code officiel':'code_region'})\n",
    "df = df.groupby(['date', 'code_region']).sum()\n",
    "df.head()"
   ]
  },
  {
   "cell_type": "markdown",
   "metadata": {},
   "source": [
    "__df_ser__"
   ]
  },
  {
   "cell_type": "code",
   "execution_count": 39,
   "metadata": {
    "ExecuteTime": {
     "end_time": "2020-03-29T19:07:40.896108Z",
     "start_time": "2020-03-29T19:07:40.860534Z"
    }
   },
   "outputs": [
    {
     "data": {
      "text/html": [
       "<div>\n",
       "<style scoped>\n",
       "    .dataframe tbody tr th:only-of-type {\n",
       "        vertical-align: middle;\n",
       "    }\n",
       "\n",
       "    .dataframe tbody tr th {\n",
       "        vertical-align: top;\n",
       "    }\n",
       "\n",
       "    .dataframe thead th {\n",
       "        text-align: right;\n",
       "    }\n",
       "</style>\n",
       "<table border=\"1\" class=\"dataframe\">\n",
       "  <thead>\n",
       "    <tr style=\"text-align: right;\">\n",
       "      <th></th>\n",
       "      <th>dep</th>\n",
       "      <th>date</th>\n",
       "      <th>nb</th>\n",
       "    </tr>\n",
       "  </thead>\n",
       "  <tbody>\n",
       "    <tr>\n",
       "      <th>601</th>\n",
       "      <td>971</td>\n",
       "      <td>2020-03-23</td>\n",
       "      <td>1</td>\n",
       "    </tr>\n",
       "    <tr>\n",
       "      <th>602</th>\n",
       "      <td>972</td>\n",
       "      <td>2020-03-23</td>\n",
       "      <td>1</td>\n",
       "    </tr>\n",
       "    <tr>\n",
       "      <th>603</th>\n",
       "      <td>973</td>\n",
       "      <td>2020-03-23</td>\n",
       "      <td>0</td>\n",
       "    </tr>\n",
       "    <tr>\n",
       "      <th>604</th>\n",
       "      <td>974</td>\n",
       "      <td>2020-03-23</td>\n",
       "      <td>1</td>\n",
       "    </tr>\n",
       "    <tr>\n",
       "      <th>605</th>\n",
       "      <td>976</td>\n",
       "      <td>2020-03-23</td>\n",
       "      <td>0</td>\n",
       "    </tr>\n",
       "  </tbody>\n",
       "</table>\n",
       "</div>"
      ],
      "text/plain": [
       "     dep        date  nb\n",
       "601  971  2020-03-23   1\n",
       "602  972  2020-03-23   1\n",
       "603  973  2020-03-23   0\n",
       "604  974  2020-03-23   1\n",
       "605  976  2020-03-23   0"
      ]
     },
     "execution_count": 39,
     "metadata": {},
     "output_type": "execute_result"
    }
   ],
   "source": [
    "path = f.RAW_FR_PATH + 'donnees-hospitalieres-etablissements-covid19-2020-03-24-17h14.csv'\n",
    "df_ser = pd.read_csv(path, sep=';')\n",
    "df_ser = df_ser.rename(columns={'jour':'date'})\n",
    "df_ser.tail()"
   ]
  },
  {
   "cell_type": "code",
   "execution_count": 14,
   "metadata": {
    "ExecuteTime": {
     "end_time": "2020-03-29T18:16:46.444611Z",
     "start_time": "2020-03-29T18:16:46.397070Z"
    }
   },
   "outputs": [
    {
     "data": {
      "text/html": [
       "<div>\n",
       "<style scoped>\n",
       "    .dataframe tbody tr th:only-of-type {\n",
       "        vertical-align: middle;\n",
       "    }\n",
       "\n",
       "    .dataframe tbody tr th {\n",
       "        vertical-align: top;\n",
       "    }\n",
       "\n",
       "    .dataframe thead th {\n",
       "        text-align: right;\n",
       "    }\n",
       "</style>\n",
       "<table border=\"1\" class=\"dataframe\">\n",
       "  <thead>\n",
       "    <tr style=\"text-align: right;\">\n",
       "      <th></th>\n",
       "      <th></th>\n",
       "      <th>nb</th>\n",
       "    </tr>\n",
       "    <tr>\n",
       "      <th>date</th>\n",
       "      <th>code_region</th>\n",
       "      <th></th>\n",
       "    </tr>\n",
       "  </thead>\n",
       "  <tbody>\n",
       "    <tr>\n",
       "      <th rowspan=\"5\" valign=\"top\">2020-03-18</th>\n",
       "      <th>1</th>\n",
       "      <td>0</td>\n",
       "    </tr>\n",
       "    <tr>\n",
       "      <th>2</th>\n",
       "      <td>1</td>\n",
       "    </tr>\n",
       "    <tr>\n",
       "      <th>3</th>\n",
       "      <td>0</td>\n",
       "    </tr>\n",
       "    <tr>\n",
       "      <th>4</th>\n",
       "      <td>1</td>\n",
       "    </tr>\n",
       "    <tr>\n",
       "      <th>6</th>\n",
       "      <td>0</td>\n",
       "    </tr>\n",
       "  </tbody>\n",
       "</table>\n",
       "</div>"
      ],
      "text/plain": [
       "                        nb\n",
       "date       code_region    \n",
       "2020-03-18 1             0\n",
       "           2             1\n",
       "           3             0\n",
       "           4             1\n",
       "           6             0"
      ]
     },
     "execution_count": 14,
     "metadata": {},
     "output_type": "execute_result"
    }
   ],
   "source": [
    "df_ser['code_region'] = df_ser['dep'].apply(lambda x:dep_2_reg[x])\n",
    "df_ser = df_ser.groupby(['date', 'code_region']).sum()\n",
    "df_ser.head()"
   ]
  },
  {
   "cell_type": "markdown",
   "metadata": {},
   "source": [
    "# Transformation"
   ]
  },
  {
   "cell_type": "code",
   "execution_count": 15,
   "metadata": {
    "ExecuteTime": {
     "end_time": "2020-03-29T18:16:46.922955Z",
     "start_time": "2020-03-29T18:16:46.867679Z"
    }
   },
   "outputs": [
    {
     "data": {
      "text/html": [
       "<div>\n",
       "<style scoped>\n",
       "    .dataframe tbody tr th:only-of-type {\n",
       "        vertical-align: middle;\n",
       "    }\n",
       "\n",
       "    .dataframe tbody tr th {\n",
       "        vertical-align: top;\n",
       "    }\n",
       "\n",
       "    .dataframe thead th {\n",
       "        text-align: right;\n",
       "    }\n",
       "</style>\n",
       "<table border=\"1\" class=\"dataframe\">\n",
       "  <thead>\n",
       "    <tr style=\"text-align: right;\">\n",
       "      <th></th>\n",
       "      <th></th>\n",
       "      <th>cas_confirme</th>\n",
       "      <th>service_covid</th>\n",
       "    </tr>\n",
       "    <tr>\n",
       "      <th>date</th>\n",
       "      <th>code_region</th>\n",
       "      <th></th>\n",
       "      <th></th>\n",
       "    </tr>\n",
       "  </thead>\n",
       "  <tbody>\n",
       "    <tr>\n",
       "      <th rowspan=\"5\" valign=\"top\">2020-03-18</th>\n",
       "      <th>1</th>\n",
       "      <td>33</td>\n",
       "      <td>0</td>\n",
       "    </tr>\n",
       "    <tr>\n",
       "      <th>2</th>\n",
       "      <td>23</td>\n",
       "      <td>1</td>\n",
       "    </tr>\n",
       "    <tr>\n",
       "      <th>3</th>\n",
       "      <td>11</td>\n",
       "      <td>0</td>\n",
       "    </tr>\n",
       "    <tr>\n",
       "      <th>4</th>\n",
       "      <td>14</td>\n",
       "      <td>1</td>\n",
       "    </tr>\n",
       "    <tr>\n",
       "      <th>6</th>\n",
       "      <td>3</td>\n",
       "      <td>0</td>\n",
       "    </tr>\n",
       "  </tbody>\n",
       "</table>\n",
       "</div>"
      ],
      "text/plain": [
       "                        cas_confirme  service_covid\n",
       "date       code_region                             \n",
       "2020-03-18 1                      33              0\n",
       "           2                      23              1\n",
       "           3                      11              0\n",
       "           4                      14              1\n",
       "           6                       3              0"
      ]
     },
     "execution_count": 15,
     "metadata": {},
     "output_type": "execute_result"
    }
   ],
   "source": [
    "df = df.merge(df_ser, left_index=True, right_on=['date', 'code_region'])\n",
    "df.columns = ['cas_confirme', 'service_covid']\n",
    "df.head()"
   ]
  },
  {
   "cell_type": "code",
   "execution_count": 16,
   "metadata": {
    "ExecuteTime": {
     "end_time": "2020-03-29T18:16:47.201494Z",
     "start_time": "2020-03-29T18:16:47.172627Z"
    }
   },
   "outputs": [],
   "source": [
    "df = df.merge(df_h, left_index=True, right_on=['date', 'code_region'])"
   ]
  },
  {
   "cell_type": "code",
   "execution_count": 17,
   "metadata": {
    "ExecuteTime": {
     "end_time": "2020-03-29T18:16:47.551223Z",
     "start_time": "2020-03-29T18:16:47.512047Z"
    }
   },
   "outputs": [
    {
     "data": {
      "text/html": [
       "<div>\n",
       "<style scoped>\n",
       "    .dataframe tbody tr th:only-of-type {\n",
       "        vertical-align: middle;\n",
       "    }\n",
       "\n",
       "    .dataframe tbody tr th {\n",
       "        vertical-align: top;\n",
       "    }\n",
       "\n",
       "    .dataframe thead th {\n",
       "        text-align: right;\n",
       "    }\n",
       "</style>\n",
       "<table border=\"1\" class=\"dataframe\">\n",
       "  <thead>\n",
       "    <tr style=\"text-align: right;\">\n",
       "      <th></th>\n",
       "      <th></th>\n",
       "      <th>cas_confirme</th>\n",
       "      <th>service_covid</th>\n",
       "      <th>nb_actuellement_hospitalises</th>\n",
       "      <th>nb_actuellement_en_soins_intensifs</th>\n",
       "      <th>total_retour_a_domicile</th>\n",
       "      <th>total_deces</th>\n",
       "    </tr>\n",
       "    <tr>\n",
       "      <th>date</th>\n",
       "      <th>code_region</th>\n",
       "      <th></th>\n",
       "      <th></th>\n",
       "      <th></th>\n",
       "      <th></th>\n",
       "      <th></th>\n",
       "      <th></th>\n",
       "    </tr>\n",
       "  </thead>\n",
       "  <tbody>\n",
       "    <tr>\n",
       "      <th rowspan=\"5\" valign=\"top\">2020-03-18</th>\n",
       "      <th>1</th>\n",
       "      <td>33</td>\n",
       "      <td>0</td>\n",
       "      <td>0</td>\n",
       "      <td>0</td>\n",
       "      <td>0</td>\n",
       "      <td>0</td>\n",
       "    </tr>\n",
       "    <tr>\n",
       "      <th>2</th>\n",
       "      <td>23</td>\n",
       "      <td>1</td>\n",
       "      <td>16</td>\n",
       "      <td>5</td>\n",
       "      <td>0</td>\n",
       "      <td>1</td>\n",
       "    </tr>\n",
       "    <tr>\n",
       "      <th>3</th>\n",
       "      <td>11</td>\n",
       "      <td>0</td>\n",
       "      <td>0</td>\n",
       "      <td>0</td>\n",
       "      <td>0</td>\n",
       "      <td>0</td>\n",
       "    </tr>\n",
       "    <tr>\n",
       "      <th>4</th>\n",
       "      <td>14</td>\n",
       "      <td>1</td>\n",
       "      <td>2</td>\n",
       "      <td>2</td>\n",
       "      <td>0</td>\n",
       "      <td>0</td>\n",
       "    </tr>\n",
       "    <tr>\n",
       "      <th>6</th>\n",
       "      <td>3</td>\n",
       "      <td>0</td>\n",
       "      <td>0</td>\n",
       "      <td>0</td>\n",
       "      <td>0</td>\n",
       "      <td>0</td>\n",
       "    </tr>\n",
       "  </tbody>\n",
       "</table>\n",
       "</div>"
      ],
      "text/plain": [
       "                        cas_confirme  service_covid  \\\n",
       "date       code_region                                \n",
       "2020-03-18 1                      33              0   \n",
       "           2                      23              1   \n",
       "           3                      11              0   \n",
       "           4                      14              1   \n",
       "           6                       3              0   \n",
       "\n",
       "                        nb_actuellement_hospitalises  \\\n",
       "date       code_region                                 \n",
       "2020-03-18 1                                       0   \n",
       "           2                                      16   \n",
       "           3                                       0   \n",
       "           4                                       2   \n",
       "           6                                       0   \n",
       "\n",
       "                        nb_actuellement_en_soins_intensifs  \\\n",
       "date       code_region                                       \n",
       "2020-03-18 1                                             0   \n",
       "           2                                             5   \n",
       "           3                                             0   \n",
       "           4                                             2   \n",
       "           6                                             0   \n",
       "\n",
       "                        total_retour_a_domicile  total_deces  \n",
       "date       code_region                                        \n",
       "2020-03-18 1                                  0            0  \n",
       "           2                                  0            1  \n",
       "           3                                  0            0  \n",
       "           4                                  0            0  \n",
       "           6                                  0            0  "
      ]
     },
     "execution_count": 17,
     "metadata": {},
     "output_type": "execute_result"
    }
   ],
   "source": [
    "df.columns = [col.lower().replace(' ', '_').replace('é', 'e').replace('à', 'a').replace('è', 'e') for col in df.columns]\n",
    "df.head()"
   ]
  },
  {
   "cell_type": "code",
   "execution_count": 18,
   "metadata": {
    "ExecuteTime": {
     "end_time": "2020-03-29T18:16:47.821023Z",
     "start_time": "2020-03-29T18:16:47.788877Z"
    }
   },
   "outputs": [],
   "source": [
    "f.save_pickle(df, 'df_contamination_fr.p')"
   ]
  },
  {
   "cell_type": "markdown",
   "metadata": {},
   "source": [
    "# Preparation"
   ]
  },
  {
   "cell_type": "markdown",
   "metadata": {},
   "source": [
    "__reload_data__"
   ]
  },
  {
   "cell_type": "code",
   "execution_count": 19,
   "metadata": {
    "ExecuteTime": {
     "end_time": "2020-03-29T18:16:48.800501Z",
     "start_time": "2020-03-29T18:16:48.774297Z"
    }
   },
   "outputs": [],
   "source": [
    "df = f.load_pickle('df_contamination_fr.p')\n",
    "options_region = f.load_pickle('radiobox_region.p')\n",
    "dep_2_reg = f.load_pickle('dep_2_reg.p')\n",
    "region_info = f.load_pickle('region_info_by_id.p')"
   ]
  },
  {
   "cell_type": "code",
   "execution_count": 20,
   "metadata": {
    "ExecuteTime": {
     "end_time": "2020-03-29T18:16:49.088886Z",
     "start_time": "2020-03-29T18:16:49.054326Z"
    }
   },
   "outputs": [
    {
     "data": {
      "text/html": [
       "<div>\n",
       "<style scoped>\n",
       "    .dataframe tbody tr th:only-of-type {\n",
       "        vertical-align: middle;\n",
       "    }\n",
       "\n",
       "    .dataframe tbody tr th {\n",
       "        vertical-align: top;\n",
       "    }\n",
       "\n",
       "    .dataframe thead th {\n",
       "        text-align: right;\n",
       "    }\n",
       "</style>\n",
       "<table border=\"1\" class=\"dataframe\">\n",
       "  <thead>\n",
       "    <tr style=\"text-align: right;\">\n",
       "      <th></th>\n",
       "      <th></th>\n",
       "      <th>cas_confirme</th>\n",
       "      <th>service_covid</th>\n",
       "      <th>nb_actuellement_hospitalises</th>\n",
       "      <th>nb_actuellement_en_soins_intensifs</th>\n",
       "      <th>total_retour_a_domicile</th>\n",
       "      <th>total_deces</th>\n",
       "    </tr>\n",
       "    <tr>\n",
       "      <th>date</th>\n",
       "      <th>code_region</th>\n",
       "      <th></th>\n",
       "      <th></th>\n",
       "      <th></th>\n",
       "      <th></th>\n",
       "      <th></th>\n",
       "      <th></th>\n",
       "    </tr>\n",
       "  </thead>\n",
       "  <tbody>\n",
       "    <tr>\n",
       "      <th rowspan=\"5\" valign=\"top\">2020-03-18</th>\n",
       "      <th>1</th>\n",
       "      <td>33</td>\n",
       "      <td>0</td>\n",
       "      <td>0</td>\n",
       "      <td>0</td>\n",
       "      <td>0</td>\n",
       "      <td>0</td>\n",
       "    </tr>\n",
       "    <tr>\n",
       "      <th>2</th>\n",
       "      <td>23</td>\n",
       "      <td>1</td>\n",
       "      <td>16</td>\n",
       "      <td>5</td>\n",
       "      <td>0</td>\n",
       "      <td>1</td>\n",
       "    </tr>\n",
       "    <tr>\n",
       "      <th>3</th>\n",
       "      <td>11</td>\n",
       "      <td>0</td>\n",
       "      <td>0</td>\n",
       "      <td>0</td>\n",
       "      <td>0</td>\n",
       "      <td>0</td>\n",
       "    </tr>\n",
       "    <tr>\n",
       "      <th>4</th>\n",
       "      <td>14</td>\n",
       "      <td>1</td>\n",
       "      <td>2</td>\n",
       "      <td>2</td>\n",
       "      <td>0</td>\n",
       "      <td>0</td>\n",
       "    </tr>\n",
       "    <tr>\n",
       "      <th>6</th>\n",
       "      <td>3</td>\n",
       "      <td>0</td>\n",
       "      <td>0</td>\n",
       "      <td>0</td>\n",
       "      <td>0</td>\n",
       "      <td>0</td>\n",
       "    </tr>\n",
       "  </tbody>\n",
       "</table>\n",
       "</div>"
      ],
      "text/plain": [
       "                        cas_confirme  service_covid  \\\n",
       "date       code_region                                \n",
       "2020-03-18 1                      33              0   \n",
       "           2                      23              1   \n",
       "           3                      11              0   \n",
       "           4                      14              1   \n",
       "           6                       3              0   \n",
       "\n",
       "                        nb_actuellement_hospitalises  \\\n",
       "date       code_region                                 \n",
       "2020-03-18 1                                       0   \n",
       "           2                                      16   \n",
       "           3                                       0   \n",
       "           4                                       2   \n",
       "           6                                       0   \n",
       "\n",
       "                        nb_actuellement_en_soins_intensifs  \\\n",
       "date       code_region                                       \n",
       "2020-03-18 1                                             0   \n",
       "           2                                             5   \n",
       "           3                                             0   \n",
       "           4                                             2   \n",
       "           6                                             0   \n",
       "\n",
       "                        total_retour_a_domicile  total_deces  \n",
       "date       code_region                                        \n",
       "2020-03-18 1                                  0            0  \n",
       "           2                                  0            1  \n",
       "           3                                  0            0  \n",
       "           4                                  0            0  \n",
       "           6                                  0            0  "
      ]
     },
     "execution_count": 20,
     "metadata": {},
     "output_type": "execute_result"
    }
   ],
   "source": [
    "df.head()"
   ]
  },
  {
   "cell_type": "code",
   "execution_count": 21,
   "metadata": {
    "ExecuteTime": {
     "end_time": "2020-03-29T18:16:49.344419Z",
     "start_time": "2020-03-29T18:16:49.286623Z"
    }
   },
   "outputs": [
    {
     "name": "stdout",
     "output_type": "stream",
     "text": [
      "[1, 2, 3, 4, 6, 11, 24, 27, 28, 32, 44, 52, 53, 75, 76, 84, 93, 94]\n",
      "2020-03-23\n"
     ]
    }
   ],
   "source": [
    "# List des régions\n",
    "regions = df.index.levels[1].tolist()\n",
    "print(regions)\n",
    "\n",
    "# Selection du jour actuem\n",
    "jour = df.index.levels[0].max()\n",
    "print(jour)"
   ]
  },
  {
   "cell_type": "markdown",
   "metadata": {},
   "source": [
    "__exploration__"
   ]
  },
  {
   "cell_type": "code",
   "execution_count": null,
   "metadata": {
    "ExecuteTime": {
     "start_time": "2020-03-29T18:14:40.505Z"
    }
   },
   "outputs": [],
   "source": [
    "pd.DataFrame({'code_region':[3], \"col\":[3]})"
   ]
  },
  {
   "cell_type": "code",
   "execution_count": null,
   "metadata": {
    "ExecuteTime": {
     "end_time": "2020-03-28T23:31:12.614784Z",
     "start_time": "2020-03-28T23:31:12.589356Z"
    }
   },
   "outputs": [],
   "source": []
  },
  {
   "cell_type": "code",
   "execution_count": null,
   "metadata": {
    "ExecuteTime": {
     "start_time": "2020-03-29T18:14:41.678Z"
    }
   },
   "outputs": [],
   "source": [
    "# Cas confirme par jours en France\n",
    "df.groupby('date').sum()['cas_confirme'].plot()\n",
    "_ = plt.show()"
   ]
  },
  {
   "cell_type": "code",
   "execution_count": 13,
   "metadata": {
    "ExecuteTime": {
     "end_time": "2020-03-28T23:30:24.197601Z",
     "start_time": "2020-03-28T23:30:24.164769Z"
    }
   },
   "outputs": [
    {
     "data": {
      "text/html": [
       "<div>\n",
       "<style scoped>\n",
       "    .dataframe tbody tr th:only-of-type {\n",
       "        vertical-align: middle;\n",
       "    }\n",
       "\n",
       "    .dataframe tbody tr th {\n",
       "        vertical-align: top;\n",
       "    }\n",
       "\n",
       "    .dataframe thead th {\n",
       "        text-align: right;\n",
       "    }\n",
       "</style>\n",
       "<table border=\"1\" class=\"dataframe\">\n",
       "  <thead>\n",
       "    <tr style=\"text-align: right;\">\n",
       "      <th></th>\n",
       "      <th>service_covid</th>\n",
       "      <th>nb_actuellement_hospitalises</th>\n",
       "      <th>nb_actuellement_en_soins_intensifs</th>\n",
       "      <th>total_retour_a_domicile</th>\n",
       "      <th>total_deces</th>\n",
       "    </tr>\n",
       "    <tr>\n",
       "      <th>date</th>\n",
       "      <th></th>\n",
       "      <th></th>\n",
       "      <th></th>\n",
       "      <th></th>\n",
       "      <th></th>\n",
       "    </tr>\n",
       "  </thead>\n",
       "  <tbody>\n",
       "    <tr>\n",
       "      <th>2020-03-18</th>\n",
       "      <td>1</td>\n",
       "      <td>2</td>\n",
       "      <td>2</td>\n",
       "      <td>0</td>\n",
       "      <td>0</td>\n",
       "    </tr>\n",
       "    <tr>\n",
       "      <th>2020-03-19</th>\n",
       "      <td>1</td>\n",
       "      <td>2</td>\n",
       "      <td>2</td>\n",
       "      <td>0</td>\n",
       "      <td>0</td>\n",
       "    </tr>\n",
       "    <tr>\n",
       "      <th>2020-03-20</th>\n",
       "      <td>1</td>\n",
       "      <td>2</td>\n",
       "      <td>2</td>\n",
       "      <td>0</td>\n",
       "      <td>0</td>\n",
       "    </tr>\n",
       "    <tr>\n",
       "      <th>2020-03-21</th>\n",
       "      <td>1</td>\n",
       "      <td>2</td>\n",
       "      <td>2</td>\n",
       "      <td>0</td>\n",
       "      <td>0</td>\n",
       "    </tr>\n",
       "    <tr>\n",
       "      <th>2020-03-22</th>\n",
       "      <td>1</td>\n",
       "      <td>2</td>\n",
       "      <td>2</td>\n",
       "      <td>0</td>\n",
       "      <td>0</td>\n",
       "    </tr>\n",
       "  </tbody>\n",
       "</table>\n",
       "</div>"
      ],
      "text/plain": [
       "            service_covid  nb_actuellement_hospitalises  \\\n",
       "date                                                      \n",
       "2020-03-18              1                             2   \n",
       "2020-03-19              1                             2   \n",
       "2020-03-20              1                             2   \n",
       "2020-03-21              1                             2   \n",
       "2020-03-22              1                             2   \n",
       "\n",
       "            nb_actuellement_en_soins_intensifs  total_retour_a_domicile  \\\n",
       "date                                                                      \n",
       "2020-03-18                                   2                        0   \n",
       "2020-03-19                                   2                        0   \n",
       "2020-03-20                                   2                        0   \n",
       "2020-03-21                                   2                        0   \n",
       "2020-03-22                                   2                        0   \n",
       "\n",
       "            total_deces  \n",
       "date                     \n",
       "2020-03-18            0  \n",
       "2020-03-19            0  \n",
       "2020-03-20            0  \n",
       "2020-03-21            0  \n",
       "2020-03-22            0  "
      ]
     },
     "execution_count": 13,
     "metadata": {},
     "output_type": "execute_result"
    }
   ],
   "source": [
    "# tests sur la selection d'une seule region\n",
    "code_region = 4\n",
    "tmp = df.xs(code_region, level=1)[['service_covid', 'nb_actuellement_hospitalises',\n",
    "       'nb_actuellement_en_soins_intensifs', 'total_retour_a_domicile',\n",
    "       'total_deces']]\n",
    "\n",
    "tmp.head()"
   ]
  },
  {
   "cell_type": "code",
   "execution_count": 14,
   "metadata": {
    "ExecuteTime": {
     "end_time": "2020-03-28T23:30:40.601092Z",
     "start_time": "2020-03-28T23:30:40.310780Z"
    }
   },
   "outputs": [
    {
     "data": {
      "image/png": "[encoded data removed]",
      "text/plain": [
       "<Figure size 432x288 with 1 Axes>"
      ]
     },
     "metadata": {
      "needs_background": "light"
     },
     "output_type": "display_data"
    }
   ],
   "source": [
    "# traçage des différentes catégories\n",
    "tmp.plot()\n",
    "plt.show()"
   ]
  },
  {
   "cell_type": "code",
   "execution_count": 15,
   "metadata": {
    "ExecuteTime": {
     "end_time": "2020-03-28T23:30:51.881765Z",
     "start_time": "2020-03-28T23:30:51.385840Z"
    }
   },
   "outputs": [
    {
     "data": {
      "image/png": "[encoded data removed]",
      "text/plain": [
       "<Figure size 432x288 with 1 Axes>"
      ]
     },
     "metadata": {
      "needs_background": "light"
     },
     "output_type": "display_data"
    }
   ],
   "source": [
    "# traçage des cas confirmes par région\n",
    "for i in df.reset_index()['code_region'].unique():\n",
    "    df.xs(i, level=1)['cas_confirme'].plot()\n",
    "plt.show()"
   ]
  },
  {
   "cell_type": "code",
   "execution_count": null,
   "metadata": {},
   "outputs": [],
   "source": []
  },
  {
   "cell_type": "markdown",
   "metadata": {},
   "source": [
    "__calcul des indicateurs pour un jour donné__ (pour toute la France)"
   ]
  },
  {
   "cell_type": "code",
   "execution_count": 24,
   "metadata": {
    "ExecuteTime": {
     "end_time": "2020-03-28T23:33:37.921231Z",
     "start_time": "2020-03-28T23:33:37.867121Z"
    }
   },
   "outputs": [
    {
     "name": "stdout",
     "output_type": "stream",
     "text": [
      "19845 847 2517 2034 8414\n"
     ]
    }
   ],
   "source": [
    "tmp = df.xs(jour).loc[regions]\n",
    "\n",
    "confirme = tmp['cas_confirme'].sum()\n",
    "deces = tmp['total_deces'].sum()\n",
    "domicile = tmp['total_retour_a_domicile'].sum()\n",
    "intensifs = tmp['nb_actuellement_en_soins_intensifs'].sum()\n",
    "hospit = tmp['nb_actuellement_hospitalises'].sum()\n",
    "print(confirme, deces, domicile, intensifs, hospit)"
   ]
  },
  {
   "cell_type": "markdown",
   "metadata": {},
   "source": [
    "__EXPERMINETATIONS__"
   ]
  },
  {
   "cell_type": "code",
   "execution_count": 58,
   "metadata": {
    "ExecuteTime": {
     "end_time": "2020-03-29T15:02:57.781828Z",
     "start_time": "2020-03-29T15:02:57.739881Z"
    }
   },
   "outputs": [
    {
     "data": {
      "text/html": [
       "<div>\n",
       "<style scoped>\n",
       "    .dataframe tbody tr th:only-of-type {\n",
       "        vertical-align: middle;\n",
       "    }\n",
       "\n",
       "    .dataframe tbody tr th {\n",
       "        vertical-align: top;\n",
       "    }\n",
       "\n",
       "    .dataframe thead th {\n",
       "        text-align: right;\n",
       "    }\n",
       "</style>\n",
       "<table border=\"1\" class=\"dataframe\">\n",
       "  <thead>\n",
       "    <tr style=\"text-align: right;\">\n",
       "      <th></th>\n",
       "      <th></th>\n",
       "      <th>cas_confirme</th>\n",
       "      <th>service_covid</th>\n",
       "      <th>nb_actuellement_hospitalises</th>\n",
       "      <th>nb_actuellement_en_soins_intensifs</th>\n",
       "      <th>total_retour_a_domicile</th>\n",
       "      <th>total_deces</th>\n",
       "    </tr>\n",
       "    <tr>\n",
       "      <th>date</th>\n",
       "      <th>code_region</th>\n",
       "      <th></th>\n",
       "      <th></th>\n",
       "      <th></th>\n",
       "      <th></th>\n",
       "      <th></th>\n",
       "      <th></th>\n",
       "    </tr>\n",
       "  </thead>\n",
       "  <tbody>\n",
       "    <tr>\n",
       "      <th rowspan=\"5\" valign=\"top\">2020-03-18</th>\n",
       "      <th>1</th>\n",
       "      <td>33</td>\n",
       "      <td>0</td>\n",
       "      <td>0</td>\n",
       "      <td>0</td>\n",
       "      <td>0</td>\n",
       "      <td>0</td>\n",
       "    </tr>\n",
       "    <tr>\n",
       "      <th>2</th>\n",
       "      <td>23</td>\n",
       "      <td>1</td>\n",
       "      <td>16</td>\n",
       "      <td>5</td>\n",
       "      <td>0</td>\n",
       "      <td>1</td>\n",
       "    </tr>\n",
       "    <tr>\n",
       "      <th>3</th>\n",
       "      <td>11</td>\n",
       "      <td>0</td>\n",
       "      <td>0</td>\n",
       "      <td>0</td>\n",
       "      <td>0</td>\n",
       "      <td>0</td>\n",
       "    </tr>\n",
       "    <tr>\n",
       "      <th>4</th>\n",
       "      <td>14</td>\n",
       "      <td>1</td>\n",
       "      <td>2</td>\n",
       "      <td>2</td>\n",
       "      <td>0</td>\n",
       "      <td>0</td>\n",
       "    </tr>\n",
       "    <tr>\n",
       "      <th>6</th>\n",
       "      <td>3</td>\n",
       "      <td>0</td>\n",
       "      <td>0</td>\n",
       "      <td>0</td>\n",
       "      <td>0</td>\n",
       "      <td>0</td>\n",
       "    </tr>\n",
       "  </tbody>\n",
       "</table>\n",
       "</div>"
      ],
      "text/plain": [
       "                        cas_confirme  service_covid  \\\n",
       "date       code_region                                \n",
       "2020-03-18 1                      33              0   \n",
       "           2                      23              1   \n",
       "           3                      11              0   \n",
       "           4                      14              1   \n",
       "           6                       3              0   \n",
       "\n",
       "                        nb_actuellement_hospitalises  \\\n",
       "date       code_region                                 \n",
       "2020-03-18 1                                       0   \n",
       "           2                                      16   \n",
       "           3                                       0   \n",
       "           4                                       2   \n",
       "           6                                       0   \n",
       "\n",
       "                        nb_actuellement_en_soins_intensifs  \\\n",
       "date       code_region                                       \n",
       "2020-03-18 1                                             0   \n",
       "           2                                             5   \n",
       "           3                                             0   \n",
       "           4                                             2   \n",
       "           6                                             0   \n",
       "\n",
       "                        total_retour_a_domicile  total_deces  \n",
       "date       code_region                                        \n",
       "2020-03-18 1                                  0            0  \n",
       "           2                                  0            1  \n",
       "           3                                  0            0  \n",
       "           4                                  0            0  \n",
       "           6                                  0            0  "
      ]
     },
     "execution_count": 58,
     "metadata": {},
     "output_type": "execute_result"
    }
   ],
   "source": [
    "df = f.load_pickle('df_contamination_fr.p')\n",
    "df.head()"
   ]
  },
  {
   "cell_type": "code",
   "execution_count": 72,
   "metadata": {
    "ExecuteTime": {
     "end_time": "2020-03-29T15:18:22.500141Z",
     "start_time": "2020-03-29T15:18:22.461136Z"
    }
   },
   "outputs": [
    {
     "data": {
      "text/html": [
       "<div>\n",
       "<style scoped>\n",
       "    .dataframe tbody tr th:only-of-type {\n",
       "        vertical-align: middle;\n",
       "    }\n",
       "\n",
       "    .dataframe tbody tr th {\n",
       "        vertical-align: top;\n",
       "    }\n",
       "\n",
       "    .dataframe thead th {\n",
       "        text-align: right;\n",
       "    }\n",
       "</style>\n",
       "<table border=\"1\" class=\"dataframe\">\n",
       "  <thead>\n",
       "    <tr style=\"text-align: right;\">\n",
       "      <th></th>\n",
       "      <th>cas_confirme</th>\n",
       "      <th>service_covid</th>\n",
       "      <th>nb_actuellement_hospitalises</th>\n",
       "      <th>nb_actuellement_en_soins_intensifs</th>\n",
       "      <th>total_retour_a_domicile</th>\n",
       "      <th>total_deces</th>\n",
       "    </tr>\n",
       "    <tr>\n",
       "      <th>date</th>\n",
       "      <th></th>\n",
       "      <th></th>\n",
       "      <th></th>\n",
       "      <th></th>\n",
       "      <th></th>\n",
       "      <th></th>\n",
       "    </tr>\n",
       "  </thead>\n",
       "  <tbody>\n",
       "    <tr>\n",
       "      <th>2020-03-18</th>\n",
       "      <td>9127</td>\n",
       "      <td>277</td>\n",
       "      <td>2933</td>\n",
       "      <td>764</td>\n",
       "      <td>811</td>\n",
       "      <td>217</td>\n",
       "    </tr>\n",
       "    <tr>\n",
       "      <th>2020-03-19</th>\n",
       "      <td>10988</td>\n",
       "      <td>323</td>\n",
       "      <td>3888</td>\n",
       "      <td>973</td>\n",
       "      <td>1142</td>\n",
       "      <td>315</td>\n",
       "    </tr>\n",
       "    <tr>\n",
       "      <th>2020-03-20</th>\n",
       "      <td>12602</td>\n",
       "      <td>372</td>\n",
       "      <td>5046</td>\n",
       "      <td>1267</td>\n",
       "      <td>1541</td>\n",
       "      <td>440</td>\n",
       "    </tr>\n",
       "    <tr>\n",
       "      <th>2020-03-21</th>\n",
       "      <td>14451</td>\n",
       "      <td>398</td>\n",
       "      <td>5699</td>\n",
       "      <td>1419</td>\n",
       "      <td>1769</td>\n",
       "      <td>516</td>\n",
       "    </tr>\n",
       "    <tr>\n",
       "      <th>2020-03-22</th>\n",
       "      <td>16680</td>\n",
       "      <td>418</td>\n",
       "      <td>6721</td>\n",
       "      <td>1637</td>\n",
       "      <td>2071</td>\n",
       "      <td>619</td>\n",
       "    </tr>\n",
       "  </tbody>\n",
       "</table>\n",
       "</div>"
      ],
      "text/plain": [
       "            cas_confirme  service_covid  nb_actuellement_hospitalises  \\\n",
       "date                                                                    \n",
       "2020-03-18          9127            277                          2933   \n",
       "2020-03-19         10988            323                          3888   \n",
       "2020-03-20         12602            372                          5046   \n",
       "2020-03-21         14451            398                          5699   \n",
       "2020-03-22         16680            418                          6721   \n",
       "\n",
       "            nb_actuellement_en_soins_intensifs  total_retour_a_domicile  \\\n",
       "date                                                                      \n",
       "2020-03-18                                 764                      811   \n",
       "2020-03-19                                 973                     1142   \n",
       "2020-03-20                                1267                     1541   \n",
       "2020-03-21                                1419                     1769   \n",
       "2020-03-22                                1637                     2071   \n",
       "\n",
       "            total_deces  \n",
       "date                     \n",
       "2020-03-18          217  \n",
       "2020-03-19          315  \n",
       "2020-03-20          440  \n",
       "2020-03-21          516  \n",
       "2020-03-22          619  "
      ]
     },
     "execution_count": 72,
     "metadata": {},
     "output_type": "execute_result"
    }
   ],
   "source": [
    "tmp = df.groupby('date').sum()\n",
    "tmp.head()"
   ]
  },
  {
   "cell_type": "code",
   "execution_count": 75,
   "metadata": {
    "ExecuteTime": {
     "end_time": "2020-03-29T15:18:42.287239Z",
     "start_time": "2020-03-29T15:18:42.254696Z"
    }
   },
   "outputs": [
    {
     "data": {
      "text/plain": [
       "Index(['2020-03-18', '2020-03-19', '2020-03-20', '2020-03-21', '2020-03-22',\n",
       "       '2020-03-23'],\n",
       "      dtype='object', name='date')"
      ]
     },
     "execution_count": 75,
     "metadata": {},
     "output_type": "execute_result"
    }
   ],
   "source": [
    "tmp.index"
   ]
  },
  {
   "cell_type": "code",
   "execution_count": 78,
   "metadata": {
    "ExecuteTime": {
     "end_time": "2020-03-29T15:38:11.883763Z",
     "start_time": "2020-03-29T15:38:11.833983Z"
    }
   },
   "outputs": [
    {
     "data": {
      "text/plain": [
       "6211"
      ]
     },
     "execution_count": 78,
     "metadata": {},
     "output_type": "execute_result"
    }
   ],
   "source": [
    "df['cas_confirme'].max()"
   ]
  },
  {
   "cell_type": "code",
   "execution_count": 83,
   "metadata": {
    "ExecuteTime": {
     "end_time": "2020-03-29T16:19:27.083154Z",
     "start_time": "2020-03-29T16:19:27.026282Z"
    }
   },
   "outputs": [
    {
     "data": {
      "text/plain": [
       "'2020-03-23'"
      ]
     },
     "execution_count": 83,
     "metadata": {},
     "output_type": "execute_result"
    }
   ],
   "source": [
    "df.index.levels[0].max()"
   ]
  },
  {
   "cell_type": "code",
   "execution_count": 85,
   "metadata": {
    "ExecuteTime": {
     "end_time": "2020-03-29T17:05:19.908150Z",
     "start_time": "2020-03-29T17:05:19.872376Z"
    }
   },
   "outputs": [
    {
     "data": {
      "text/plain": [
       "{'region': 'Île-de-France', 'lat': 48.5174587303, 'lon': 2.24865517666}"
      ]
     },
     "execution_count": 85,
     "metadata": {},
     "output_type": "execute_result"
    }
   ],
   "source": [
    "region_info[11]"
   ]
  },
  {
   "cell_type": "code",
   "execution_count": 100,
   "metadata": {
    "ExecuteTime": {
     "end_time": "2020-03-29T17:41:12.846105Z",
     "start_time": "2020-03-29T17:41:11.487849Z"
    }
   },
   "outputs": [],
   "source": [
    "# Carte des régions contaminées de France\n",
    "region_plotly = f.load_pickle('region_contours_geojson_plotly.p')\n",
    "tmp = f.load_pickle('df_contamination_fr.p')\n",
    "\n",
    "jour = tmp.index.levels[0].max()\n",
    "col = 'cas_confirme'\n",
    "\n",
    "tmp = tmp.loc[jour][col].reset_index()\n",
    "tmp['region'] = tmp['code_region'].apply(lambda x: region_info[x]['region'])\n",
    "tmp['code_region'] = tmp['code_region'].apply(str)\n",
    "     \n",
    "max_value = tmp[col].max()\n",
    "fig =  px.choropleth_mapbox(\n",
    "    tmp,\n",
    "    geojson=region_plotly,\n",
    "    locations='code_region',\n",
    "    color=col,\n",
    "    # width=500,\n",
    "    color_continuous_scale=\"oranges\",\n",
    "    range_color=(0, max_value),\n",
    "    mapbox_style=\"carto-positron\",\n",
    "    zoom=4.5, center = {\"lat\": 46, \"lon\": 2.15},\n",
    "    opacity=0.5,\n",
    "    #hovertext='region',\n",
    ")\n",
    "fig.update_layout(margin={\"r\":0,\"t\":0,\"l\":0,\"b\":0})\n",
    "f.save_pickle(fig, 'fig_fr_contamination_region.p')"
   ]
  },
  {
   "cell_type": "code",
   "execution_count": 104,
   "metadata": {
    "ExecuteTime": {
     "end_time": "2020-03-29T17:52:29.778460Z",
     "start_time": "2020-03-29T17:52:29.746157Z"
    }
   },
   "outputs": [],
   "source": [
    "jours = df.index.levels[0].tolist()\n",
    "jour = jours[3]"
   ]
  },
  {
   "cell_type": "code",
   "execution_count": 108,
   "metadata": {
    "ExecuteTime": {
     "end_time": "2020-03-29T17:52:55.580622Z",
     "start_time": "2020-03-29T17:52:55.543585Z"
    }
   },
   "outputs": [
    {
     "data": {
      "text/plain": [
       "[3, 3, 3, 5, 3, 3]"
      ]
     },
     "execution_count": 108,
     "metadata": {},
     "output_type": "execute_result"
    }
   ],
   "source": [
    "size = [5 if i== jour else 3 for i in jours]\n",
    "size"
   ]
  },
  {
   "cell_type": "code",
   "execution_count": null,
   "metadata": {
    "ExecuteTime": {
     "end_time": "2020-03-29T17:52:36.342784Z",
     "start_time": "2020-03-29T17:52:35.307Z"
    }
   },
   "outputs": [],
   "source": [
    "size"
   ]
  },
  {
   "cell_type": "code",
   "execution_count": null,
   "metadata": {},
   "outputs": [],
   "source": []
  }
 ],
 "metadata": {
  "kernelspec": {
   "display_name": "sales",
   "language": "python",
   "name": "sales"
  },
  "language_info": {
   "codemirror_mode": {
    "name": "ipython",
    "version": 3
   },
   "file_extension": ".py",
   "mimetype": "text/x-python",
   "name": "python",
   "nbconvert_exporter": "python",
   "pygments_lexer": "ipython3",
   "version": "3.7.3"
  },
  "toc": {
   "base_numbering": 1,
   "nav_menu": {},
   "number_sections": true,
   "sideBar": true,
   "skip_h1_title": false,
   "title_cell": "Table of Contents",
   "title_sidebar": "Contents",
   "toc_cell": false,
   "toc_position": {},
   "toc_section_display": true,
   "toc_window_display": false
  },
  "varInspector": {
   "cols": {
    "lenName": 16,
    "lenType": 16,
    "lenVar": 40
   },
   "kernels_config": {
    "python": {
     "delete_cmd_postfix": "",
     "delete_cmd_prefix": "del ",
     "library": "var_list.py",
     "varRefreshCmd": "print(var_dic_list())"
    },
    "r": {
     "delete_cmd_postfix": ") ",
     "delete_cmd_prefix": "rm(",
     "library": "var_list.r",
     "varRefreshCmd": "cat(var_dic_list()) "
    }
   },
   "types_to_exclude": [
    "module",
    "function",
    "builtin_function_or_method",
    "instance",
    "_Feature"
   ],
   "window_display": false
  }
 },
 "nbformat": 4,
 "nbformat_minor": 4
}
